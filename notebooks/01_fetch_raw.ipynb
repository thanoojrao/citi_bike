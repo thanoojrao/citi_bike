{
 "cells": [
  {
   "cell_type": "code",
   "execution_count": null,
   "id": "523063a3",
   "metadata": {},
   "outputs": [],
   "source": [
    "from pathlib import Path\n",
    "import requests\n",
    "import zipfile\n",
    "import pandas as pd\n",
    "import numpy as np\n",
    "\n",
    "def fetch_raw_data(year: int, month: int) -> str:\n",
    "    base_url = \"https://s3.amazonaws.com/tripdata\"\n",
    "    patterns = [\n",
    "        f\"{year}{month:02}-citibike-tripdata.csv.zip\",\n",
    "        f\"{year}{month:02}-citibike-tripdata.zip\",\n",
    "    ]\n",
    "\n",
    "    raw_dir = Path(\"..\") / \"data\" / \"raw\"\n",
    "    raw_dir.mkdir(parents=True, exist_ok=True)\n",
    "\n",
    "    # 1) Download ZIP\n",
    "    zip_path = None\n",
    "    for fname in patterns:\n",
    "        url = f\"{base_url}/{fname}\"\n",
    "        resp = requests.get(url, stream=True)\n",
    "        if resp.status_code == 200:\n",
    "            zip_path = raw_dir / fname\n",
    "            with open(zip_path, \"wb\") as f:\n",
    "                for chunk in resp.iter_content(8_192):\n",
    "                    f.write(chunk)\n",
    "            print(f\"Downloaded {url}\")\n",
    "            break\n",
    "        else:\n",
    "            print(f\"{url} returned {resp.status_code}\")\n",
    "    if not zip_path:\n",
    "        raise FileNotFoundError(f\"No CSV ZIP found for {year}-{month:02}\")\n",
    "\n",
    "    # 2) Extract CSV(s)\n",
    "    with zipfile.ZipFile(zip_path, \"r\") as z:\n",
    "        z.extractall(raw_dir)\n",
    "    print(f\"Extracted to {raw_dir}\")\n",
    "\n",
    "    # 3) Collect CSV files\n",
    "    # top‐level pattern:\n",
    "    csvs = list(raw_dir.glob(f\"{year}{month:02}*-citibike-tripdata*.csv\"))\n",
    "    # fallback in raw_dir root:\n",
    "    if not csvs:\n",
    "        csvs = list(raw_dir.glob(\"*.csv\"))\n",
    "    # also check in the extracted folder, e.g. \"202410-citibike-tripdata\"\n",
    "    folder = raw_dir / zip_path.stem\n",
    "    if folder.is_dir():\n",
    "        csvs += list(folder.glob(\"*.csv\"))\n",
    "\n",
    "    if not csvs:\n",
    "        raise FileNotFoundError(f\"No CSVs found after extracting {zip_path}\")\n",
    "\n",
    "    # 4) Read & concatenate\n",
    "    dfs = []\n",
    "    for csv in csvs:\n",
    "        print(f\"Reading {csv.relative_to(raw_dir)}\")\n",
    "        dfs.append(pd.read_csv(csv))\n",
    "    df = pd.concat(dfs, ignore_index=True)\n",
    "\n",
    "    # 5) Enforce strictly numeric station IDs\n",
    "    for col in (\"start_station_id\", \"end_station_id\"):\n",
    "        if col in df.columns:\n",
    "            df[col] = pd.to_numeric(df[col], errors=\"coerce\")\n",
    "    df.dropna(subset=[\"start_station_id\", \"end_station_id\"], inplace=True)\n",
    "    df[\"start_station_id\"] = df[\"start_station_id\"].astype(np.int64)\n",
    "    df[\"end_station_id\"]   = df[\"end_station_id\"].astype(np.int64)\n",
    "\n",
    "    # 6) Write out Parquet\n",
    "    out_path = raw_dir / f\"rides_{year}_{month:02}.parquet\"\n",
    "    df.to_parquet(out_path, index=False)\n",
    "    print(f\"Converted to parquet: {out_path}\")\n",
    "\n",
    "    # 7) Cleanup ZIP and CSVs (but leave any other files/folders intact)\n",
    "    try:\n",
    "        zip_path.unlink()\n",
    "        for csv in csvs:\n",
    "            csv.unlink()\n",
    "        print(\"Cleaned up ZIP and CSV files\")\n",
    "    except Exception as e:\n",
    "        print(f\"Cleanup warning: {e}\")\n",
    "\n",
    "    return str(out_path)\n"
   ]
  },
  {
   "cell_type": "code",
   "execution_count": null,
   "id": "2625829d",
   "metadata": {},
   "outputs": [
    {
     "name": "stdout",
     "output_type": "stream",
     "text": [
      "https://s3.amazonaws.com/tripdata/202410-citibike-tripdata.csv.zip returned 404\n",
      "Downloaded https://s3.amazonaws.com/tripdata/202410-citibike-tripdata.zip\n",
      "Extracted to ..\\data\\raw\n",
      "→ Reading 202410-citibike-tripdata\\202410-citibike-tripdata_1.csv\n"
     ]
    },
    {
     "name": "stderr",
     "output_type": "stream",
     "text": [
      "C:\\Users\\thano\\AppData\\Local\\Temp\\ipykernel_33984\\4073799693.py:57: DtypeWarning: Columns (5,7) have mixed types. Specify dtype option on import or set low_memory=False.\n",
      "  dfs.append(pd.read_csv(csv))\n"
     ]
    },
    {
     "name": "stdout",
     "output_type": "stream",
     "text": [
      "→ Reading 202410-citibike-tripdata\\202410-citibike-tripdata_2.csv\n"
     ]
    },
    {
     "name": "stderr",
     "output_type": "stream",
     "text": [
      "C:\\Users\\thano\\AppData\\Local\\Temp\\ipykernel_33984\\4073799693.py:57: DtypeWarning: Columns (7) have mixed types. Specify dtype option on import or set low_memory=False.\n",
      "  dfs.append(pd.read_csv(csv))\n"
     ]
    },
    {
     "name": "stdout",
     "output_type": "stream",
     "text": [
      "→ Reading 202410-citibike-tripdata\\202410-citibike-tripdata_3.csv\n"
     ]
    },
    {
     "name": "stderr",
     "output_type": "stream",
     "text": [
      "C:\\Users\\thano\\AppData\\Local\\Temp\\ipykernel_33984\\4073799693.py:57: DtypeWarning: Columns (5,7) have mixed types. Specify dtype option on import or set low_memory=False.\n",
      "  dfs.append(pd.read_csv(csv))\n"
     ]
    },
    {
     "name": "stdout",
     "output_type": "stream",
     "text": [
      "→ Reading 202410-citibike-tripdata\\202410-citibike-tripdata_4.csv\n"
     ]
    },
    {
     "name": "stderr",
     "output_type": "stream",
     "text": [
      "C:\\Users\\thano\\AppData\\Local\\Temp\\ipykernel_33984\\4073799693.py:57: DtypeWarning: Columns (5,7) have mixed types. Specify dtype option on import or set low_memory=False.\n",
      "  dfs.append(pd.read_csv(csv))\n"
     ]
    },
    {
     "name": "stdout",
     "output_type": "stream",
     "text": [
      "→ Reading 202410-citibike-tripdata\\202410-citibike-tripdata_5.csv\n"
     ]
    },
    {
     "name": "stderr",
     "output_type": "stream",
     "text": [
      "C:\\Users\\thano\\AppData\\Local\\Temp\\ipykernel_33984\\4073799693.py:57: DtypeWarning: Columns (5,7) have mixed types. Specify dtype option on import or set low_memory=False.\n",
      "  dfs.append(pd.read_csv(csv))\n"
     ]
    },
    {
     "name": "stdout",
     "output_type": "stream",
     "text": [
      "→ Reading 202410-citibike-tripdata\\202410-citibike-tripdata_6.csv\n"
     ]
    },
    {
     "name": "stderr",
     "output_type": "stream",
     "text": [
      "C:\\Users\\thano\\AppData\\Local\\Temp\\ipykernel_33984\\4073799693.py:57: DtypeWarning: Columns (5) have mixed types. Specify dtype option on import or set low_memory=False.\n",
      "  dfs.append(pd.read_csv(csv))\n"
     ]
    },
    {
     "name": "stdout",
     "output_type": "stream",
     "text": [
      "Converted to parquet: ..\\data\\raw\\rides_2024_10.parquet\n",
      "Cleaned up ZIP and CSV files\n"
     ]
    },
    {
     "data": {
      "text/plain": [
       "'..\\\\data\\\\raw\\\\rides_2024_10.parquet'"
      ]
     },
     "execution_count": 9,
     "metadata": {},
     "output_type": "execute_result"
    }
   ],
   "source": [
    "fetch_raw_data(2024, 10)"
   ]
  },
  {
   "cell_type": "code",
   "execution_count": null,
   "id": "99b1bf94",
   "metadata": {},
   "outputs": [],
   "source": []
  }
 ],
 "metadata": {
  "kernelspec": {
   "display_name": "cda",
   "language": "python",
   "name": "cda"
  },
  "language_info": {
   "codemirror_mode": {
    "name": "ipython",
    "version": 3
   },
   "file_extension": ".py",
   "mimetype": "text/x-python",
   "name": "python",
   "nbconvert_exporter": "python",
   "pygments_lexer": "ipython3",
   "version": "3.9.21"
  }
 },
 "nbformat": 4,
 "nbformat_minor": 5
}
