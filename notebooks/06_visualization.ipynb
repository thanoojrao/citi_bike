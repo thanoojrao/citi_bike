{
 "cells": [
  {
   "cell_type": "code",
   "execution_count": 31,
   "id": "9665d918-da54-49ad-9cae-ee8ead849e43",
   "metadata": {},
   "outputs": [
    {
     "name": "stdout",
     "output_type": "stream",
     "text": [
      "The autoreload extension is already loaded. To reload it, use:\n",
      "  %reload_ext autoreload\n"
     ]
    }
   ],
   "source": [
    "%load_ext autoreload\n",
    "%autoreload 2"
   ]
  },
  {
   "cell_type": "code",
   "execution_count": 42,
   "id": "9560d27c-251c-4d52-b6f0-f63cec5c9cdb",
   "metadata": {},
   "outputs": [],
   "source": [
    "import sys\n",
    "import os\n",
    "\n",
    "# Add the parent directory to the Python path\n",
    "sys.path.append(os.path.abspath(os.path.join(os.getcwd(), \"..\")))"
   ]
  },
  {
   "cell_type": "code",
   "execution_count": 43,
   "id": "7376476c-d517-4dd2-92b1-0207259a9f37",
   "metadata": {},
   "outputs": [],
   "source": [
    "import pandas as pd\n",
    "\n",
    "from src.config import TRANSFORMED_DATA_DIR\n",
    "\n",
    "features_and_targets = pd.read_parquet(TRANSFORMED_DATA_DIR / \"tabular_data.parquet\")"
   ]
  },
  {
   "cell_type": "code",
   "execution_count": 44,
   "id": "3ae58192-3d28-44f4-9dae-86ea16e675a3",
   "metadata": {},
   "outputs": [],
   "source": [
    "features = features_and_targets.iloc[:, :-1]\n",
    "targets = features_and_targets[\"target\"]"
   ]
  },
  {
   "cell_type": "code",
   "execution_count": 45,
   "id": "715125fe-d888-48ad-ab6b-b4085f12b81c",
   "metadata": {},
   "outputs": [
    {
     "data": {
      "text/html": [
       "<div>\n",
       "<style scoped>\n",
       "    .dataframe tbody tr th:only-of-type {\n",
       "        vertical-align: middle;\n",
       "    }\n",
       "\n",
       "    .dataframe tbody tr th {\n",
       "        vertical-align: top;\n",
       "    }\n",
       "\n",
       "    .dataframe thead th {\n",
       "        text-align: right;\n",
       "    }\n",
       "</style>\n",
       "<table border=\"1\" class=\"dataframe\">\n",
       "  <thead>\n",
       "    <tr style=\"text-align: right;\">\n",
       "      <th></th>\n",
       "      <th>rides_t-112</th>\n",
       "      <th>rides_t-111</th>\n",
       "      <th>rides_t-110</th>\n",
       "      <th>rides_t-109</th>\n",
       "      <th>rides_t-108</th>\n",
       "      <th>rides_t-107</th>\n",
       "      <th>rides_t-106</th>\n",
       "      <th>rides_t-105</th>\n",
       "      <th>rides_t-104</th>\n",
       "      <th>rides_t-103</th>\n",
       "      <th>...</th>\n",
       "      <th>rides_t-8</th>\n",
       "      <th>rides_t-7</th>\n",
       "      <th>rides_t-6</th>\n",
       "      <th>rides_t-5</th>\n",
       "      <th>rides_t-4</th>\n",
       "      <th>rides_t-3</th>\n",
       "      <th>rides_t-2</th>\n",
       "      <th>rides_t-1</th>\n",
       "      <th>pickup_hour</th>\n",
       "      <th>pickup_location_id</th>\n",
       "    </tr>\n",
       "  </thead>\n",
       "  <tbody>\n",
       "    <tr>\n",
       "      <th>0</th>\n",
       "      <td>4</td>\n",
       "      <td>49</td>\n",
       "      <td>42</td>\n",
       "      <td>114</td>\n",
       "      <td>57</td>\n",
       "      <td>7</td>\n",
       "      <td>110</td>\n",
       "      <td>112</td>\n",
       "      <td>86</td>\n",
       "      <td>14</td>\n",
       "      <td>...</td>\n",
       "      <td>89</td>\n",
       "      <td>39</td>\n",
       "      <td>66</td>\n",
       "      <td>205</td>\n",
       "      <td>111</td>\n",
       "      <td>26</td>\n",
       "      <td>30</td>\n",
       "      <td>56</td>\n",
       "      <td>2024-01-28 18:00:00</td>\n",
       "      <td>5626</td>\n",
       "    </tr>\n",
       "    <tr>\n",
       "      <th>1</th>\n",
       "      <td>49</td>\n",
       "      <td>42</td>\n",
       "      <td>114</td>\n",
       "      <td>57</td>\n",
       "      <td>7</td>\n",
       "      <td>110</td>\n",
       "      <td>112</td>\n",
       "      <td>86</td>\n",
       "      <td>14</td>\n",
       "      <td>103</td>\n",
       "      <td>...</td>\n",
       "      <td>39</td>\n",
       "      <td>66</td>\n",
       "      <td>205</td>\n",
       "      <td>111</td>\n",
       "      <td>26</td>\n",
       "      <td>30</td>\n",
       "      <td>56</td>\n",
       "      <td>70</td>\n",
       "      <td>2024-01-29 00:00:00</td>\n",
       "      <td>5626</td>\n",
       "    </tr>\n",
       "    <tr>\n",
       "      <th>2</th>\n",
       "      <td>42</td>\n",
       "      <td>114</td>\n",
       "      <td>57</td>\n",
       "      <td>7</td>\n",
       "      <td>110</td>\n",
       "      <td>112</td>\n",
       "      <td>86</td>\n",
       "      <td>14</td>\n",
       "      <td>103</td>\n",
       "      <td>135</td>\n",
       "      <td>...</td>\n",
       "      <td>66</td>\n",
       "      <td>205</td>\n",
       "      <td>111</td>\n",
       "      <td>26</td>\n",
       "      <td>30</td>\n",
       "      <td>56</td>\n",
       "      <td>70</td>\n",
       "      <td>12</td>\n",
       "      <td>2024-01-29 06:00:00</td>\n",
       "      <td>5626</td>\n",
       "    </tr>\n",
       "    <tr>\n",
       "      <th>3</th>\n",
       "      <td>114</td>\n",
       "      <td>57</td>\n",
       "      <td>7</td>\n",
       "      <td>110</td>\n",
       "      <td>112</td>\n",
       "      <td>86</td>\n",
       "      <td>14</td>\n",
       "      <td>103</td>\n",
       "      <td>135</td>\n",
       "      <td>97</td>\n",
       "      <td>...</td>\n",
       "      <td>205</td>\n",
       "      <td>111</td>\n",
       "      <td>26</td>\n",
       "      <td>30</td>\n",
       "      <td>56</td>\n",
       "      <td>70</td>\n",
       "      <td>12</td>\n",
       "      <td>112</td>\n",
       "      <td>2024-01-29 12:00:00</td>\n",
       "      <td>5626</td>\n",
       "    </tr>\n",
       "    <tr>\n",
       "      <th>4</th>\n",
       "      <td>57</td>\n",
       "      <td>7</td>\n",
       "      <td>110</td>\n",
       "      <td>112</td>\n",
       "      <td>86</td>\n",
       "      <td>14</td>\n",
       "      <td>103</td>\n",
       "      <td>135</td>\n",
       "      <td>97</td>\n",
       "      <td>10</td>\n",
       "      <td>...</td>\n",
       "      <td>111</td>\n",
       "      <td>26</td>\n",
       "      <td>30</td>\n",
       "      <td>56</td>\n",
       "      <td>70</td>\n",
       "      <td>12</td>\n",
       "      <td>112</td>\n",
       "      <td>123</td>\n",
       "      <td>2024-01-29 18:00:00</td>\n",
       "      <td>5626</td>\n",
       "    </tr>\n",
       "    <tr>\n",
       "      <th>...</th>\n",
       "      <td>...</td>\n",
       "      <td>...</td>\n",
       "      <td>...</td>\n",
       "      <td>...</td>\n",
       "      <td>...</td>\n",
       "      <td>...</td>\n",
       "      <td>...</td>\n",
       "      <td>...</td>\n",
       "      <td>...</td>\n",
       "      <td>...</td>\n",
       "      <td>...</td>\n",
       "      <td>...</td>\n",
       "      <td>...</td>\n",
       "      <td>...</td>\n",
       "      <td>...</td>\n",
       "      <td>...</td>\n",
       "      <td>...</td>\n",
       "      <td>...</td>\n",
       "      <td>...</td>\n",
       "      <td>...</td>\n",
       "      <td>...</td>\n",
       "    </tr>\n",
       "    <tr>\n",
       "      <th>1348</th>\n",
       "      <td>131</td>\n",
       "      <td>23</td>\n",
       "      <td>207</td>\n",
       "      <td>218</td>\n",
       "      <td>179</td>\n",
       "      <td>24</td>\n",
       "      <td>232</td>\n",
       "      <td>203</td>\n",
       "      <td>150</td>\n",
       "      <td>12</td>\n",
       "      <td>...</td>\n",
       "      <td>60</td>\n",
       "      <td>36</td>\n",
       "      <td>78</td>\n",
       "      <td>159</td>\n",
       "      <td>107</td>\n",
       "      <td>19</td>\n",
       "      <td>111</td>\n",
       "      <td>215</td>\n",
       "      <td>2024-12-30 18:00:00</td>\n",
       "      <td>5626</td>\n",
       "    </tr>\n",
       "    <tr>\n",
       "      <th>1349</th>\n",
       "      <td>23</td>\n",
       "      <td>207</td>\n",
       "      <td>218</td>\n",
       "      <td>179</td>\n",
       "      <td>24</td>\n",
       "      <td>232</td>\n",
       "      <td>203</td>\n",
       "      <td>150</td>\n",
       "      <td>12</td>\n",
       "      <td>240</td>\n",
       "      <td>...</td>\n",
       "      <td>36</td>\n",
       "      <td>78</td>\n",
       "      <td>159</td>\n",
       "      <td>107</td>\n",
       "      <td>19</td>\n",
       "      <td>111</td>\n",
       "      <td>215</td>\n",
       "      <td>144</td>\n",
       "      <td>2024-12-31 00:00:00</td>\n",
       "      <td>5626</td>\n",
       "    </tr>\n",
       "    <tr>\n",
       "      <th>1350</th>\n",
       "      <td>207</td>\n",
       "      <td>218</td>\n",
       "      <td>179</td>\n",
       "      <td>24</td>\n",
       "      <td>232</td>\n",
       "      <td>203</td>\n",
       "      <td>150</td>\n",
       "      <td>12</td>\n",
       "      <td>240</td>\n",
       "      <td>205</td>\n",
       "      <td>...</td>\n",
       "      <td>78</td>\n",
       "      <td>159</td>\n",
       "      <td>107</td>\n",
       "      <td>19</td>\n",
       "      <td>111</td>\n",
       "      <td>215</td>\n",
       "      <td>144</td>\n",
       "      <td>40</td>\n",
       "      <td>2024-12-31 06:00:00</td>\n",
       "      <td>5626</td>\n",
       "    </tr>\n",
       "    <tr>\n",
       "      <th>1351</th>\n",
       "      <td>218</td>\n",
       "      <td>179</td>\n",
       "      <td>24</td>\n",
       "      <td>232</td>\n",
       "      <td>203</td>\n",
       "      <td>150</td>\n",
       "      <td>12</td>\n",
       "      <td>240</td>\n",
       "      <td>205</td>\n",
       "      <td>187</td>\n",
       "      <td>...</td>\n",
       "      <td>159</td>\n",
       "      <td>107</td>\n",
       "      <td>19</td>\n",
       "      <td>111</td>\n",
       "      <td>215</td>\n",
       "      <td>144</td>\n",
       "      <td>40</td>\n",
       "      <td>95</td>\n",
       "      <td>2024-12-31 12:00:00</td>\n",
       "      <td>5626</td>\n",
       "    </tr>\n",
       "    <tr>\n",
       "      <th>1352</th>\n",
       "      <td>179</td>\n",
       "      <td>24</td>\n",
       "      <td>232</td>\n",
       "      <td>203</td>\n",
       "      <td>150</td>\n",
       "      <td>12</td>\n",
       "      <td>240</td>\n",
       "      <td>205</td>\n",
       "      <td>187</td>\n",
       "      <td>43</td>\n",
       "      <td>...</td>\n",
       "      <td>107</td>\n",
       "      <td>19</td>\n",
       "      <td>111</td>\n",
       "      <td>215</td>\n",
       "      <td>144</td>\n",
       "      <td>40</td>\n",
       "      <td>95</td>\n",
       "      <td>226</td>\n",
       "      <td>2024-12-31 18:00:00</td>\n",
       "      <td>5626</td>\n",
       "    </tr>\n",
       "  </tbody>\n",
       "</table>\n",
       "<p>1353 rows × 114 columns</p>\n",
       "</div>"
      ],
      "text/plain": [
       "      rides_t-112  rides_t-111  rides_t-110  rides_t-109  rides_t-108  \\\n",
       "0               4           49           42          114           57   \n",
       "1              49           42          114           57            7   \n",
       "2              42          114           57            7          110   \n",
       "3             114           57            7          110          112   \n",
       "4              57            7          110          112           86   \n",
       "...           ...          ...          ...          ...          ...   \n",
       "1348          131           23          207          218          179   \n",
       "1349           23          207          218          179           24   \n",
       "1350          207          218          179           24          232   \n",
       "1351          218          179           24          232          203   \n",
       "1352          179           24          232          203          150   \n",
       "\n",
       "      rides_t-107  rides_t-106  rides_t-105  rides_t-104  rides_t-103  ...  \\\n",
       "0               7          110          112           86           14  ...   \n",
       "1             110          112           86           14          103  ...   \n",
       "2             112           86           14          103          135  ...   \n",
       "3              86           14          103          135           97  ...   \n",
       "4              14          103          135           97           10  ...   \n",
       "...           ...          ...          ...          ...          ...  ...   \n",
       "1348           24          232          203          150           12  ...   \n",
       "1349          232          203          150           12          240  ...   \n",
       "1350          203          150           12          240          205  ...   \n",
       "1351          150           12          240          205          187  ...   \n",
       "1352           12          240          205          187           43  ...   \n",
       "\n",
       "      rides_t-8  rides_t-7  rides_t-6  rides_t-5  rides_t-4  rides_t-3  \\\n",
       "0            89         39         66        205        111         26   \n",
       "1            39         66        205        111         26         30   \n",
       "2            66        205        111         26         30         56   \n",
       "3           205        111         26         30         56         70   \n",
       "4           111         26         30         56         70         12   \n",
       "...         ...        ...        ...        ...        ...        ...   \n",
       "1348         60         36         78        159        107         19   \n",
       "1349         36         78        159        107         19        111   \n",
       "1350         78        159        107         19        111        215   \n",
       "1351        159        107         19        111        215        144   \n",
       "1352        107         19        111        215        144         40   \n",
       "\n",
       "      rides_t-2  rides_t-1         pickup_hour  pickup_location_id  \n",
       "0            30         56 2024-01-28 18:00:00                5626  \n",
       "1            56         70 2024-01-29 00:00:00                5626  \n",
       "2            70         12 2024-01-29 06:00:00                5626  \n",
       "3            12        112 2024-01-29 12:00:00                5626  \n",
       "4           112        123 2024-01-29 18:00:00                5626  \n",
       "...         ...        ...                 ...                 ...  \n",
       "1348        111        215 2024-12-30 18:00:00                5626  \n",
       "1349        215        144 2024-12-31 00:00:00                5626  \n",
       "1350        144         40 2024-12-31 06:00:00                5626  \n",
       "1351         40         95 2024-12-31 12:00:00                5626  \n",
       "1352         95        226 2024-12-31 18:00:00                5626  \n",
       "\n",
       "[1353 rows x 114 columns]"
      ]
     },
     "execution_count": 45,
     "metadata": {},
     "output_type": "execute_result"
    }
   ],
   "source": [
    "features.head()\n",
    "features[features['pickup_location_id']==5626]"
   ]
  },
  {
   "cell_type": "code",
   "execution_count": 47,
   "id": "51b5317f-cd00-4f15-98cb-ce57e3df717f",
   "metadata": {},
   "outputs": [
    {
     "data": {
      "application/vnd.plotly.v1+json": {
       "config": {
        "plotlyServerURL": "https://plot.ly"
       },
       "data": [
        {
         "hovertemplate": "Time=%{x}<br>Ride Counts=%{y}<extra></extra>",
         "legendgroup": "",
         "line": {
          "color": "#636efa",
          "dash": "solid"
         },
         "marker": {
          "symbol": "circle"
         },
         "mode": "lines+markers",
         "name": "",
         "orientation": "v",
         "showlegend": false,
         "type": "scatter",
         "x": [
          "2024-01-01T00:00:00.000000000",
          "2024-01-01T06:00:00.000000000",
          "2024-01-01T12:00:00.000000000",
          "2024-01-01T18:00:00.000000000",
          "2024-01-02T00:00:00.000000000",
          "2024-01-02T06:00:00.000000000",
          "2024-01-02T12:00:00.000000000",
          "2024-01-02T18:00:00.000000000",
          "2024-01-03T00:00:00.000000000",
          "2024-01-03T06:00:00.000000000",
          "2024-01-03T12:00:00.000000000",
          "2024-01-03T18:00:00.000000000",
          "2024-01-04T00:00:00.000000000",
          "2024-01-04T06:00:00.000000000",
          "2024-01-04T12:00:00.000000000",
          "2024-01-04T18:00:00.000000000",
          "2024-01-05T00:00:00.000000000",
          "2024-01-05T06:00:00.000000000",
          "2024-01-05T12:00:00.000000000",
          "2024-01-05T18:00:00.000000000",
          "2024-01-06T00:00:00.000000000",
          "2024-01-06T06:00:00.000000000",
          "2024-01-06T12:00:00.000000000",
          "2024-01-06T18:00:00.000000000",
          "2024-01-07T00:00:00.000000000",
          "2024-01-07T06:00:00.000000000",
          "2024-01-07T12:00:00.000000000",
          "2024-01-07T18:00:00.000000000",
          "2024-01-08T00:00:00.000000000",
          "2024-01-08T06:00:00.000000000",
          "2024-01-08T12:00:00.000000000",
          "2024-01-08T18:00:00.000000000",
          "2024-01-09T00:00:00.000000000",
          "2024-01-09T06:00:00.000000000",
          "2024-01-09T12:00:00.000000000",
          "2024-01-09T18:00:00.000000000",
          "2024-01-10T00:00:00.000000000",
          "2024-01-10T06:00:00.000000000",
          "2024-01-10T12:00:00.000000000",
          "2024-01-10T18:00:00.000000000",
          "2024-01-11T00:00:00.000000000",
          "2024-01-11T06:00:00.000000000",
          "2024-01-11T12:00:00.000000000",
          "2024-01-11T18:00:00.000000000",
          "2024-01-12T00:00:00.000000000",
          "2024-01-12T06:00:00.000000000",
          "2024-01-12T12:00:00.000000000",
          "2024-01-12T18:00:00.000000000",
          "2024-01-13T00:00:00.000000000",
          "2024-01-13T06:00:00.000000000",
          "2024-01-13T12:00:00.000000000",
          "2024-01-13T18:00:00.000000000",
          "2024-01-14T00:00:00.000000000",
          "2024-01-14T06:00:00.000000000",
          "2024-01-14T12:00:00.000000000",
          "2024-01-14T18:00:00.000000000",
          "2024-01-15T00:00:00.000000000",
          "2024-01-15T06:00:00.000000000",
          "2024-01-15T12:00:00.000000000",
          "2024-01-15T18:00:00.000000000",
          "2024-01-16T00:00:00.000000000",
          "2024-01-16T06:00:00.000000000",
          "2024-01-16T12:00:00.000000000",
          "2024-01-16T18:00:00.000000000",
          "2024-01-17T00:00:00.000000000",
          "2024-01-17T06:00:00.000000000",
          "2024-01-17T12:00:00.000000000",
          "2024-01-17T18:00:00.000000000",
          "2024-01-18T00:00:00.000000000",
          "2024-01-18T06:00:00.000000000",
          "2024-01-18T12:00:00.000000000",
          "2024-01-18T18:00:00.000000000",
          "2024-01-19T00:00:00.000000000",
          "2024-01-19T06:00:00.000000000",
          "2024-01-19T12:00:00.000000000",
          "2024-01-19T18:00:00.000000000",
          "2024-01-20T00:00:00.000000000",
          "2024-01-20T06:00:00.000000000",
          "2024-01-20T12:00:00.000000000",
          "2024-01-20T18:00:00.000000000",
          "2024-01-21T00:00:00.000000000",
          "2024-01-21T06:00:00.000000000",
          "2024-01-21T12:00:00.000000000",
          "2024-01-21T18:00:00.000000000",
          "2024-01-22T00:00:00.000000000",
          "2024-01-22T06:00:00.000000000",
          "2024-01-22T12:00:00.000000000",
          "2024-01-22T18:00:00.000000000",
          "2024-01-23T00:00:00.000000000",
          "2024-01-23T06:00:00.000000000",
          "2024-01-23T12:00:00.000000000",
          "2024-01-23T18:00:00.000000000",
          "2024-01-24T00:00:00.000000000",
          "2024-01-24T06:00:00.000000000",
          "2024-01-24T12:00:00.000000000",
          "2024-01-24T18:00:00.000000000",
          "2024-01-25T00:00:00.000000000",
          "2024-01-25T06:00:00.000000000",
          "2024-01-25T12:00:00.000000000",
          "2024-01-25T18:00:00.000000000",
          "2024-01-26T00:00:00.000000000",
          "2024-01-26T06:00:00.000000000",
          "2024-01-26T12:00:00.000000000",
          "2024-01-26T18:00:00.000000000",
          "2024-01-27T00:00:00.000000000",
          "2024-01-27T06:00:00.000000000",
          "2024-01-27T12:00:00.000000000",
          "2024-01-27T18:00:00.000000000",
          "2024-01-28T00:00:00.000000000",
          "2024-01-28T06:00:00.000000000",
          "2024-01-28T12:00:00.000000000",
          "2024-01-28T18:00:00.000000000",
          "2024-01-29T00:00:00.000000000"
         ],
         "xaxis": "x",
         "y": {
          "bdata": "MQAqAHIAOQAHAG4AcABWAA4AZwCHAGEACgCAAGcASwASAG0AlAB1ABwARQB1ACYADwAsAIIASQAFAHIAcwBiAA0AjQAzAA8ACgCTAHsAdgATAKIAggCKABYAcQCDAIMABABfAMgAXwAZAFYAnQBhAAkARgBxAEEABwA1ADUALwALAEkAWQA6AAsAewBcAFUAEABkAEUAVAATADsAjwBAABIAOwB4AEIACgBsAHMAYgASAJMAZgBiAAoAmQBVAFMACQBlAG0AYQAIAD4AbQBZACcAQgDNAG8AGgAeADgARgAMAA==",
          "dtype": "i2"
         },
         "yaxis": "y"
        },
        {
         "line": {
          "color": "green"
         },
         "marker": {
          "size": 10
         },
         "mode": "markers",
         "name": "Actual Value",
         "type": "scatter",
         "x": [
          "2024-01-29T00:00:00.000000000"
         ],
         "y": [
          12
         ]
        }
       ],
       "layout": {
        "legend": {
         "tracegroupgap": 0
        },
        "template": {
         "data": {
          "bar": [
           {
            "error_x": {
             "color": "#2a3f5f"
            },
            "error_y": {
             "color": "#2a3f5f"
            },
            "marker": {
             "line": {
              "color": "white",
              "width": 0.5
             },
             "pattern": {
              "fillmode": "overlay",
              "size": 10,
              "solidity": 0.2
             }
            },
            "type": "bar"
           }
          ],
          "barpolar": [
           {
            "marker": {
             "line": {
              "color": "white",
              "width": 0.5
             },
             "pattern": {
              "fillmode": "overlay",
              "size": 10,
              "solidity": 0.2
             }
            },
            "type": "barpolar"
           }
          ],
          "carpet": [
           {
            "aaxis": {
             "endlinecolor": "#2a3f5f",
             "gridcolor": "#C8D4E3",
             "linecolor": "#C8D4E3",
             "minorgridcolor": "#C8D4E3",
             "startlinecolor": "#2a3f5f"
            },
            "baxis": {
             "endlinecolor": "#2a3f5f",
             "gridcolor": "#C8D4E3",
             "linecolor": "#C8D4E3",
             "minorgridcolor": "#C8D4E3",
             "startlinecolor": "#2a3f5f"
            },
            "type": "carpet"
           }
          ],
          "choropleth": [
           {
            "colorbar": {
             "outlinewidth": 0,
             "ticks": ""
            },
            "type": "choropleth"
           }
          ],
          "contour": [
           {
            "colorbar": {
             "outlinewidth": 0,
             "ticks": ""
            },
            "colorscale": [
             [
              0,
              "#0d0887"
             ],
             [
              0.1111111111111111,
              "#46039f"
             ],
             [
              0.2222222222222222,
              "#7201a8"
             ],
             [
              0.3333333333333333,
              "#9c179e"
             ],
             [
              0.4444444444444444,
              "#bd3786"
             ],
             [
              0.5555555555555556,
              "#d8576b"
             ],
             [
              0.6666666666666666,
              "#ed7953"
             ],
             [
              0.7777777777777778,
              "#fb9f3a"
             ],
             [
              0.8888888888888888,
              "#fdca26"
             ],
             [
              1,
              "#f0f921"
             ]
            ],
            "type": "contour"
           }
          ],
          "contourcarpet": [
           {
            "colorbar": {
             "outlinewidth": 0,
             "ticks": ""
            },
            "type": "contourcarpet"
           }
          ],
          "heatmap": [
           {
            "colorbar": {
             "outlinewidth": 0,
             "ticks": ""
            },
            "colorscale": [
             [
              0,
              "#0d0887"
             ],
             [
              0.1111111111111111,
              "#46039f"
             ],
             [
              0.2222222222222222,
              "#7201a8"
             ],
             [
              0.3333333333333333,
              "#9c179e"
             ],
             [
              0.4444444444444444,
              "#bd3786"
             ],
             [
              0.5555555555555556,
              "#d8576b"
             ],
             [
              0.6666666666666666,
              "#ed7953"
             ],
             [
              0.7777777777777778,
              "#fb9f3a"
             ],
             [
              0.8888888888888888,
              "#fdca26"
             ],
             [
              1,
              "#f0f921"
             ]
            ],
            "type": "heatmap"
           }
          ],
          "histogram": [
           {
            "marker": {
             "pattern": {
              "fillmode": "overlay",
              "size": 10,
              "solidity": 0.2
             }
            },
            "type": "histogram"
           }
          ],
          "histogram2d": [
           {
            "colorbar": {
             "outlinewidth": 0,
             "ticks": ""
            },
            "colorscale": [
             [
              0,
              "#0d0887"
             ],
             [
              0.1111111111111111,
              "#46039f"
             ],
             [
              0.2222222222222222,
              "#7201a8"
             ],
             [
              0.3333333333333333,
              "#9c179e"
             ],
             [
              0.4444444444444444,
              "#bd3786"
             ],
             [
              0.5555555555555556,
              "#d8576b"
             ],
             [
              0.6666666666666666,
              "#ed7953"
             ],
             [
              0.7777777777777778,
              "#fb9f3a"
             ],
             [
              0.8888888888888888,
              "#fdca26"
             ],
             [
              1,
              "#f0f921"
             ]
            ],
            "type": "histogram2d"
           }
          ],
          "histogram2dcontour": [
           {
            "colorbar": {
             "outlinewidth": 0,
             "ticks": ""
            },
            "colorscale": [
             [
              0,
              "#0d0887"
             ],
             [
              0.1111111111111111,
              "#46039f"
             ],
             [
              0.2222222222222222,
              "#7201a8"
             ],
             [
              0.3333333333333333,
              "#9c179e"
             ],
             [
              0.4444444444444444,
              "#bd3786"
             ],
             [
              0.5555555555555556,
              "#d8576b"
             ],
             [
              0.6666666666666666,
              "#ed7953"
             ],
             [
              0.7777777777777778,
              "#fb9f3a"
             ],
             [
              0.8888888888888888,
              "#fdca26"
             ],
             [
              1,
              "#f0f921"
             ]
            ],
            "type": "histogram2dcontour"
           }
          ],
          "mesh3d": [
           {
            "colorbar": {
             "outlinewidth": 0,
             "ticks": ""
            },
            "type": "mesh3d"
           }
          ],
          "parcoords": [
           {
            "line": {
             "colorbar": {
              "outlinewidth": 0,
              "ticks": ""
             }
            },
            "type": "parcoords"
           }
          ],
          "pie": [
           {
            "automargin": true,
            "type": "pie"
           }
          ],
          "scatter": [
           {
            "fillpattern": {
             "fillmode": "overlay",
             "size": 10,
             "solidity": 0.2
            },
            "type": "scatter"
           }
          ],
          "scatter3d": [
           {
            "line": {
             "colorbar": {
              "outlinewidth": 0,
              "ticks": ""
             }
            },
            "marker": {
             "colorbar": {
              "outlinewidth": 0,
              "ticks": ""
             }
            },
            "type": "scatter3d"
           }
          ],
          "scattercarpet": [
           {
            "marker": {
             "colorbar": {
              "outlinewidth": 0,
              "ticks": ""
             }
            },
            "type": "scattercarpet"
           }
          ],
          "scattergeo": [
           {
            "marker": {
             "colorbar": {
              "outlinewidth": 0,
              "ticks": ""
             }
            },
            "type": "scattergeo"
           }
          ],
          "scattergl": [
           {
            "marker": {
             "colorbar": {
              "outlinewidth": 0,
              "ticks": ""
             }
            },
            "type": "scattergl"
           }
          ],
          "scattermap": [
           {
            "marker": {
             "colorbar": {
              "outlinewidth": 0,
              "ticks": ""
             }
            },
            "type": "scattermap"
           }
          ],
          "scattermapbox": [
           {
            "marker": {
             "colorbar": {
              "outlinewidth": 0,
              "ticks": ""
             }
            },
            "type": "scattermapbox"
           }
          ],
          "scatterpolar": [
           {
            "marker": {
             "colorbar": {
              "outlinewidth": 0,
              "ticks": ""
             }
            },
            "type": "scatterpolar"
           }
          ],
          "scatterpolargl": [
           {
            "marker": {
             "colorbar": {
              "outlinewidth": 0,
              "ticks": ""
             }
            },
            "type": "scatterpolargl"
           }
          ],
          "scatterternary": [
           {
            "marker": {
             "colorbar": {
              "outlinewidth": 0,
              "ticks": ""
             }
            },
            "type": "scatterternary"
           }
          ],
          "surface": [
           {
            "colorbar": {
             "outlinewidth": 0,
             "ticks": ""
            },
            "colorscale": [
             [
              0,
              "#0d0887"
             ],
             [
              0.1111111111111111,
              "#46039f"
             ],
             [
              0.2222222222222222,
              "#7201a8"
             ],
             [
              0.3333333333333333,
              "#9c179e"
             ],
             [
              0.4444444444444444,
              "#bd3786"
             ],
             [
              0.5555555555555556,
              "#d8576b"
             ],
             [
              0.6666666666666666,
              "#ed7953"
             ],
             [
              0.7777777777777778,
              "#fb9f3a"
             ],
             [
              0.8888888888888888,
              "#fdca26"
             ],
             [
              1,
              "#f0f921"
             ]
            ],
            "type": "surface"
           }
          ],
          "table": [
           {
            "cells": {
             "fill": {
              "color": "#EBF0F8"
             },
             "line": {
              "color": "white"
             }
            },
            "header": {
             "fill": {
              "color": "#C8D4E3"
             },
             "line": {
              "color": "white"
             }
            },
            "type": "table"
           }
          ]
         },
         "layout": {
          "annotationdefaults": {
           "arrowcolor": "#2a3f5f",
           "arrowhead": 0,
           "arrowwidth": 1
          },
          "autotypenumbers": "strict",
          "coloraxis": {
           "colorbar": {
            "outlinewidth": 0,
            "ticks": ""
           }
          },
          "colorscale": {
           "diverging": [
            [
             0,
             "#8e0152"
            ],
            [
             0.1,
             "#c51b7d"
            ],
            [
             0.2,
             "#de77ae"
            ],
            [
             0.3,
             "#f1b6da"
            ],
            [
             0.4,
             "#fde0ef"
            ],
            [
             0.5,
             "#f7f7f7"
            ],
            [
             0.6,
             "#e6f5d0"
            ],
            [
             0.7,
             "#b8e186"
            ],
            [
             0.8,
             "#7fbc41"
            ],
            [
             0.9,
             "#4d9221"
            ],
            [
             1,
             "#276419"
            ]
           ],
           "sequential": [
            [
             0,
             "#0d0887"
            ],
            [
             0.1111111111111111,
             "#46039f"
            ],
            [
             0.2222222222222222,
             "#7201a8"
            ],
            [
             0.3333333333333333,
             "#9c179e"
            ],
            [
             0.4444444444444444,
             "#bd3786"
            ],
            [
             0.5555555555555556,
             "#d8576b"
            ],
            [
             0.6666666666666666,
             "#ed7953"
            ],
            [
             0.7777777777777778,
             "#fb9f3a"
            ],
            [
             0.8888888888888888,
             "#fdca26"
            ],
            [
             1,
             "#f0f921"
            ]
           ],
           "sequentialminus": [
            [
             0,
             "#0d0887"
            ],
            [
             0.1111111111111111,
             "#46039f"
            ],
            [
             0.2222222222222222,
             "#7201a8"
            ],
            [
             0.3333333333333333,
             "#9c179e"
            ],
            [
             0.4444444444444444,
             "#bd3786"
            ],
            [
             0.5555555555555556,
             "#d8576b"
            ],
            [
             0.6666666666666666,
             "#ed7953"
            ],
            [
             0.7777777777777778,
             "#fb9f3a"
            ],
            [
             0.8888888888888888,
             "#fdca26"
            ],
            [
             1,
             "#f0f921"
            ]
           ]
          },
          "colorway": [
           "#636efa",
           "#EF553B",
           "#00cc96",
           "#ab63fa",
           "#FFA15A",
           "#19d3f3",
           "#FF6692",
           "#B6E880",
           "#FF97FF",
           "#FECB52"
          ],
          "font": {
           "color": "#2a3f5f"
          },
          "geo": {
           "bgcolor": "white",
           "lakecolor": "white",
           "landcolor": "white",
           "showlakes": true,
           "showland": true,
           "subunitcolor": "#C8D4E3"
          },
          "hoverlabel": {
           "align": "left"
          },
          "hovermode": "closest",
          "mapbox": {
           "style": "light"
          },
          "paper_bgcolor": "white",
          "plot_bgcolor": "white",
          "polar": {
           "angularaxis": {
            "gridcolor": "#EBF0F8",
            "linecolor": "#EBF0F8",
            "ticks": ""
           },
           "bgcolor": "white",
           "radialaxis": {
            "gridcolor": "#EBF0F8",
            "linecolor": "#EBF0F8",
            "ticks": ""
           }
          },
          "scene": {
           "xaxis": {
            "backgroundcolor": "white",
            "gridcolor": "#DFE8F3",
            "gridwidth": 2,
            "linecolor": "#EBF0F8",
            "showbackground": true,
            "ticks": "",
            "zerolinecolor": "#EBF0F8"
           },
           "yaxis": {
            "backgroundcolor": "white",
            "gridcolor": "#DFE8F3",
            "gridwidth": 2,
            "linecolor": "#EBF0F8",
            "showbackground": true,
            "ticks": "",
            "zerolinecolor": "#EBF0F8"
           },
           "zaxis": {
            "backgroundcolor": "white",
            "gridcolor": "#DFE8F3",
            "gridwidth": 2,
            "linecolor": "#EBF0F8",
            "showbackground": true,
            "ticks": "",
            "zerolinecolor": "#EBF0F8"
           }
          },
          "shapedefaults": {
           "line": {
            "color": "#2a3f5f"
           }
          },
          "ternary": {
           "aaxis": {
            "gridcolor": "#DFE8F3",
            "linecolor": "#A2B1C6",
            "ticks": ""
           },
           "baxis": {
            "gridcolor": "#DFE8F3",
            "linecolor": "#A2B1C6",
            "ticks": ""
           },
           "bgcolor": "white",
           "caxis": {
            "gridcolor": "#DFE8F3",
            "linecolor": "#A2B1C6",
            "ticks": ""
           }
          },
          "title": {
           "x": 0.05
          },
          "xaxis": {
           "automargin": true,
           "gridcolor": "#EBF0F8",
           "linecolor": "#EBF0F8",
           "ticks": "",
           "title": {
            "standoff": 15
           },
           "zerolinecolor": "#EBF0F8",
           "zerolinewidth": 2
          },
          "yaxis": {
           "automargin": true,
           "gridcolor": "#EBF0F8",
           "linecolor": "#EBF0F8",
           "ticks": "",
           "title": {
            "standoff": 15
           },
           "zerolinecolor": "#EBF0F8",
           "zerolinewidth": 2
          }
         }
        },
        "title": {
         "text": "Pickup Hour: 2024-01-29 00:00:00, Location ID: 5626"
        },
        "xaxis": {
         "anchor": "y",
         "domain": [
          0,
          1
         ],
         "title": {
          "text": "Time"
         }
        },
        "yaxis": {
         "anchor": "x",
         "domain": [
          0,
          1
         ],
         "title": {
          "text": "Ride Counts"
         }
        }
       }
      }
     },
     "metadata": {},
     "output_type": "display_data"
    }
   ],
   "source": [
    "from src.plot_utils import plot_aggregated_time_series_6h\n",
    "\n",
    "plot_aggregated_time_series_6h(features, targets, row_id=1)"
   ]
  },
  {
   "cell_type": "code",
   "execution_count": null,
   "id": "0624b527",
   "metadata": {},
   "outputs": [],
   "source": []
  }
 ],
 "metadata": {
  "kernelspec": {
   "display_name": "cda",
   "language": "python",
   "name": "cda"
  },
  "language_info": {
   "codemirror_mode": {
    "name": "ipython",
    "version": 3
   },
   "file_extension": ".py",
   "mimetype": "text/x-python",
   "name": "python",
   "nbconvert_exporter": "python",
   "pygments_lexer": "ipython3",
   "version": "3.9.21"
  }
 },
 "nbformat": 4,
 "nbformat_minor": 5
}
