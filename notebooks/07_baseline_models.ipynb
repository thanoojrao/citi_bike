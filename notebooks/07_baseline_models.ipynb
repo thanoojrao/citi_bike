{
 "cells": [
  {
   "cell_type": "code",
   "execution_count": 2,
   "id": "5e7fd51d-f4fc-4583-94ae-2bfd9388224c",
   "metadata": {},
   "outputs": [],
   "source": [
    "%load_ext autoreload\n",
    "%autoreload 2"
   ]
  },
  {
   "cell_type": "code",
   "execution_count": 1,
   "id": "ca4e773b-3fdb-4db2-a8b3-fcf09bd54f2f",
   "metadata": {},
   "outputs": [],
   "source": [
    "import sys\n",
    "import os\n",
    "\n",
    "# Add the parent directory to the Python path\n",
    "sys.path.append(os.path.abspath(os.path.join(os.getcwd(), \"..\")))"
   ]
  },
  {
   "cell_type": "code",
   "execution_count": 2,
   "id": "9b160f27-7330-42ef-abdf-a65053027038",
   "metadata": {},
   "outputs": [
    {
     "data": {
      "text/html": [
       "<div>\n",
       "<style scoped>\n",
       "    .dataframe tbody tr th:only-of-type {\n",
       "        vertical-align: middle;\n",
       "    }\n",
       "\n",
       "    .dataframe tbody tr th {\n",
       "        vertical-align: top;\n",
       "    }\n",
       "\n",
       "    .dataframe thead th {\n",
       "        text-align: right;\n",
       "    }\n",
       "</style>\n",
       "<table border=\"1\" class=\"dataframe\">\n",
       "  <thead>\n",
       "    <tr style=\"text-align: right;\">\n",
       "      <th></th>\n",
       "      <th>rides_t-112</th>\n",
       "      <th>rides_t-111</th>\n",
       "      <th>rides_t-110</th>\n",
       "      <th>rides_t-109</th>\n",
       "      <th>rides_t-108</th>\n",
       "      <th>rides_t-107</th>\n",
       "      <th>rides_t-106</th>\n",
       "      <th>rides_t-105</th>\n",
       "      <th>rides_t-104</th>\n",
       "      <th>rides_t-103</th>\n",
       "      <th>...</th>\n",
       "      <th>rides_t-7</th>\n",
       "      <th>rides_t-6</th>\n",
       "      <th>rides_t-5</th>\n",
       "      <th>rides_t-4</th>\n",
       "      <th>rides_t-3</th>\n",
       "      <th>rides_t-2</th>\n",
       "      <th>rides_t-1</th>\n",
       "      <th>pickup_hour</th>\n",
       "      <th>pickup_location_id</th>\n",
       "      <th>target</th>\n",
       "    </tr>\n",
       "  </thead>\n",
       "  <tbody>\n",
       "    <tr>\n",
       "      <th>0</th>\n",
       "      <td>4</td>\n",
       "      <td>49</td>\n",
       "      <td>42</td>\n",
       "      <td>114</td>\n",
       "      <td>57</td>\n",
       "      <td>7</td>\n",
       "      <td>110</td>\n",
       "      <td>112</td>\n",
       "      <td>86</td>\n",
       "      <td>14</td>\n",
       "      <td>...</td>\n",
       "      <td>39</td>\n",
       "      <td>66</td>\n",
       "      <td>205</td>\n",
       "      <td>111</td>\n",
       "      <td>26</td>\n",
       "      <td>30</td>\n",
       "      <td>56</td>\n",
       "      <td>2024-01-28 18:00:00</td>\n",
       "      <td>5626</td>\n",
       "      <td>70</td>\n",
       "    </tr>\n",
       "    <tr>\n",
       "      <th>1</th>\n",
       "      <td>49</td>\n",
       "      <td>42</td>\n",
       "      <td>114</td>\n",
       "      <td>57</td>\n",
       "      <td>7</td>\n",
       "      <td>110</td>\n",
       "      <td>112</td>\n",
       "      <td>86</td>\n",
       "      <td>14</td>\n",
       "      <td>103</td>\n",
       "      <td>...</td>\n",
       "      <td>66</td>\n",
       "      <td>205</td>\n",
       "      <td>111</td>\n",
       "      <td>26</td>\n",
       "      <td>30</td>\n",
       "      <td>56</td>\n",
       "      <td>70</td>\n",
       "      <td>2024-01-29 00:00:00</td>\n",
       "      <td>5626</td>\n",
       "      <td>12</td>\n",
       "    </tr>\n",
       "    <tr>\n",
       "      <th>2</th>\n",
       "      <td>42</td>\n",
       "      <td>114</td>\n",
       "      <td>57</td>\n",
       "      <td>7</td>\n",
       "      <td>110</td>\n",
       "      <td>112</td>\n",
       "      <td>86</td>\n",
       "      <td>14</td>\n",
       "      <td>103</td>\n",
       "      <td>135</td>\n",
       "      <td>...</td>\n",
       "      <td>205</td>\n",
       "      <td>111</td>\n",
       "      <td>26</td>\n",
       "      <td>30</td>\n",
       "      <td>56</td>\n",
       "      <td>70</td>\n",
       "      <td>12</td>\n",
       "      <td>2024-01-29 06:00:00</td>\n",
       "      <td>5626</td>\n",
       "      <td>112</td>\n",
       "    </tr>\n",
       "    <tr>\n",
       "      <th>3</th>\n",
       "      <td>114</td>\n",
       "      <td>57</td>\n",
       "      <td>7</td>\n",
       "      <td>110</td>\n",
       "      <td>112</td>\n",
       "      <td>86</td>\n",
       "      <td>14</td>\n",
       "      <td>103</td>\n",
       "      <td>135</td>\n",
       "      <td>97</td>\n",
       "      <td>...</td>\n",
       "      <td>111</td>\n",
       "      <td>26</td>\n",
       "      <td>30</td>\n",
       "      <td>56</td>\n",
       "      <td>70</td>\n",
       "      <td>12</td>\n",
       "      <td>112</td>\n",
       "      <td>2024-01-29 12:00:00</td>\n",
       "      <td>5626</td>\n",
       "      <td>123</td>\n",
       "    </tr>\n",
       "    <tr>\n",
       "      <th>4</th>\n",
       "      <td>57</td>\n",
       "      <td>7</td>\n",
       "      <td>110</td>\n",
       "      <td>112</td>\n",
       "      <td>86</td>\n",
       "      <td>14</td>\n",
       "      <td>103</td>\n",
       "      <td>135</td>\n",
       "      <td>97</td>\n",
       "      <td>10</td>\n",
       "      <td>...</td>\n",
       "      <td>26</td>\n",
       "      <td>30</td>\n",
       "      <td>56</td>\n",
       "      <td>70</td>\n",
       "      <td>12</td>\n",
       "      <td>112</td>\n",
       "      <td>123</td>\n",
       "      <td>2024-01-29 18:00:00</td>\n",
       "      <td>5626</td>\n",
       "      <td>99</td>\n",
       "    </tr>\n",
       "    <tr>\n",
       "      <th>...</th>\n",
       "      <td>...</td>\n",
       "      <td>...</td>\n",
       "      <td>...</td>\n",
       "      <td>...</td>\n",
       "      <td>...</td>\n",
       "      <td>...</td>\n",
       "      <td>...</td>\n",
       "      <td>...</td>\n",
       "      <td>...</td>\n",
       "      <td>...</td>\n",
       "      <td>...</td>\n",
       "      <td>...</td>\n",
       "      <td>...</td>\n",
       "      <td>...</td>\n",
       "      <td>...</td>\n",
       "      <td>...</td>\n",
       "      <td>...</td>\n",
       "      <td>...</td>\n",
       "      <td>...</td>\n",
       "      <td>...</td>\n",
       "      <td>...</td>\n",
       "    </tr>\n",
       "    <tr>\n",
       "      <th>6760</th>\n",
       "      <td>108</td>\n",
       "      <td>11</td>\n",
       "      <td>160</td>\n",
       "      <td>180</td>\n",
       "      <td>115</td>\n",
       "      <td>15</td>\n",
       "      <td>162</td>\n",
       "      <td>192</td>\n",
       "      <td>111</td>\n",
       "      <td>9</td>\n",
       "      <td>...</td>\n",
       "      <td>15</td>\n",
       "      <td>37</td>\n",
       "      <td>131</td>\n",
       "      <td>69</td>\n",
       "      <td>10</td>\n",
       "      <td>63</td>\n",
       "      <td>171</td>\n",
       "      <td>2024-12-30 18:00:00</td>\n",
       "      <td>6072</td>\n",
       "      <td>80</td>\n",
       "    </tr>\n",
       "    <tr>\n",
       "      <th>6761</th>\n",
       "      <td>11</td>\n",
       "      <td>160</td>\n",
       "      <td>180</td>\n",
       "      <td>115</td>\n",
       "      <td>15</td>\n",
       "      <td>162</td>\n",
       "      <td>192</td>\n",
       "      <td>111</td>\n",
       "      <td>9</td>\n",
       "      <td>139</td>\n",
       "      <td>...</td>\n",
       "      <td>37</td>\n",
       "      <td>131</td>\n",
       "      <td>69</td>\n",
       "      <td>10</td>\n",
       "      <td>63</td>\n",
       "      <td>171</td>\n",
       "      <td>80</td>\n",
       "      <td>2024-12-31 00:00:00</td>\n",
       "      <td>6072</td>\n",
       "      <td>15</td>\n",
       "    </tr>\n",
       "    <tr>\n",
       "      <th>6762</th>\n",
       "      <td>160</td>\n",
       "      <td>180</td>\n",
       "      <td>115</td>\n",
       "      <td>15</td>\n",
       "      <td>162</td>\n",
       "      <td>192</td>\n",
       "      <td>111</td>\n",
       "      <td>9</td>\n",
       "      <td>139</td>\n",
       "      <td>162</td>\n",
       "      <td>...</td>\n",
       "      <td>131</td>\n",
       "      <td>69</td>\n",
       "      <td>10</td>\n",
       "      <td>63</td>\n",
       "      <td>171</td>\n",
       "      <td>80</td>\n",
       "      <td>15</td>\n",
       "      <td>2024-12-31 06:00:00</td>\n",
       "      <td>6072</td>\n",
       "      <td>87</td>\n",
       "    </tr>\n",
       "    <tr>\n",
       "      <th>6763</th>\n",
       "      <td>180</td>\n",
       "      <td>115</td>\n",
       "      <td>15</td>\n",
       "      <td>162</td>\n",
       "      <td>192</td>\n",
       "      <td>111</td>\n",
       "      <td>9</td>\n",
       "      <td>139</td>\n",
       "      <td>162</td>\n",
       "      <td>120</td>\n",
       "      <td>...</td>\n",
       "      <td>69</td>\n",
       "      <td>10</td>\n",
       "      <td>63</td>\n",
       "      <td>171</td>\n",
       "      <td>80</td>\n",
       "      <td>15</td>\n",
       "      <td>87</td>\n",
       "      <td>2024-12-31 12:00:00</td>\n",
       "      <td>6072</td>\n",
       "      <td>142</td>\n",
       "    </tr>\n",
       "    <tr>\n",
       "      <th>6764</th>\n",
       "      <td>115</td>\n",
       "      <td>15</td>\n",
       "      <td>162</td>\n",
       "      <td>192</td>\n",
       "      <td>111</td>\n",
       "      <td>9</td>\n",
       "      <td>139</td>\n",
       "      <td>162</td>\n",
       "      <td>120</td>\n",
       "      <td>17</td>\n",
       "      <td>...</td>\n",
       "      <td>10</td>\n",
       "      <td>63</td>\n",
       "      <td>171</td>\n",
       "      <td>80</td>\n",
       "      <td>15</td>\n",
       "      <td>87</td>\n",
       "      <td>142</td>\n",
       "      <td>2024-12-31 18:00:00</td>\n",
       "      <td>6072</td>\n",
       "      <td>44</td>\n",
       "    </tr>\n",
       "  </tbody>\n",
       "</table>\n",
       "<p>6765 rows × 115 columns</p>\n",
       "</div>"
      ],
      "text/plain": [
       "      rides_t-112  rides_t-111  rides_t-110  rides_t-109  rides_t-108  \\\n",
       "0               4           49           42          114           57   \n",
       "1              49           42          114           57            7   \n",
       "2              42          114           57            7          110   \n",
       "3             114           57            7          110          112   \n",
       "4              57            7          110          112           86   \n",
       "...           ...          ...          ...          ...          ...   \n",
       "6760          108           11          160          180          115   \n",
       "6761           11          160          180          115           15   \n",
       "6762          160          180          115           15          162   \n",
       "6763          180          115           15          162          192   \n",
       "6764          115           15          162          192          111   \n",
       "\n",
       "      rides_t-107  rides_t-106  rides_t-105  rides_t-104  rides_t-103  ...  \\\n",
       "0               7          110          112           86           14  ...   \n",
       "1             110          112           86           14          103  ...   \n",
       "2             112           86           14          103          135  ...   \n",
       "3              86           14          103          135           97  ...   \n",
       "4              14          103          135           97           10  ...   \n",
       "...           ...          ...          ...          ...          ...  ...   \n",
       "6760           15          162          192          111            9  ...   \n",
       "6761          162          192          111            9          139  ...   \n",
       "6762          192          111            9          139          162  ...   \n",
       "6763          111            9          139          162          120  ...   \n",
       "6764            9          139          162          120           17  ...   \n",
       "\n",
       "      rides_t-7  rides_t-6  rides_t-5  rides_t-4  rides_t-3  rides_t-2  \\\n",
       "0            39         66        205        111         26         30   \n",
       "1            66        205        111         26         30         56   \n",
       "2           205        111         26         30         56         70   \n",
       "3           111         26         30         56         70         12   \n",
       "4            26         30         56         70         12        112   \n",
       "...         ...        ...        ...        ...        ...        ...   \n",
       "6760         15         37        131         69         10         63   \n",
       "6761         37        131         69         10         63        171   \n",
       "6762        131         69         10         63        171         80   \n",
       "6763         69         10         63        171         80         15   \n",
       "6764         10         63        171         80         15         87   \n",
       "\n",
       "      rides_t-1         pickup_hour  pickup_location_id  target  \n",
       "0            56 2024-01-28 18:00:00                5626      70  \n",
       "1            70 2024-01-29 00:00:00                5626      12  \n",
       "2            12 2024-01-29 06:00:00                5626     112  \n",
       "3           112 2024-01-29 12:00:00                5626     123  \n",
       "4           123 2024-01-29 18:00:00                5626      99  \n",
       "...         ...                 ...                 ...     ...  \n",
       "6760        171 2024-12-30 18:00:00                6072      80  \n",
       "6761         80 2024-12-31 00:00:00                6072      15  \n",
       "6762         15 2024-12-31 06:00:00                6072      87  \n",
       "6763         87 2024-12-31 12:00:00                6072     142  \n",
       "6764        142 2024-12-31 18:00:00                6072      44  \n",
       "\n",
       "[6765 rows x 115 columns]"
      ]
     },
     "execution_count": 2,
     "metadata": {},
     "output_type": "execute_result"
    }
   ],
   "source": [
    "import pandas as pd\n",
    "from src.config import TRANSFORMED_DATA_DIR\n",
    "\n",
    "df = pd.read_parquet(TRANSFORMED_DATA_DIR / \"tabular_data.parquet\")\n",
    "df"
   ]
  },
  {
   "cell_type": "code",
   "execution_count": 3,
   "id": "375ff8cf-b58e-4e8c-8d91-80b325d5cf31",
   "metadata": {},
   "outputs": [
    {
     "name": "stdout",
     "output_type": "stream",
     "text": [
      "(4925, 114)\n",
      "(4925,)\n",
      "(1840, 114)\n",
      "(1840,)\n"
     ]
    }
   ],
   "source": [
    "from datetime import datetime\n",
    "\n",
    "from src.data_utils import split_time_series_data\n",
    "\n",
    "X_train, y_train, X_test, y_test = split_time_series_data(\n",
    "    df,\n",
    "    cutoff_date=datetime(2024, 10, 1, 0, 0, 0),\n",
    "    target_column=\"target\"\n",
    ")\n",
    "\n",
    "print(X_train.shape)\n",
    "print(y_train.shape)\n",
    "print(X_test.shape)\n",
    "print(y_test.shape)"
   ]
  },
  {
   "cell_type": "code",
   "execution_count": 4,
   "id": "607bfb35-84cf-4410-a4ac-5075d1d4a8f1",
   "metadata": {},
   "outputs": [],
   "source": [
    "import numpy as np\n",
    "\n",
    "class BaselineModelPreviousHour:\n",
    "\n",
    "    def fit(self, X_train: pd.DataFrame, y_train: pd.Series):\n",
    "        pass\n",
    "\n",
    "    def predict(self, X_test: pd.DataFrame) -> np.array:\n",
    "        return X_test[\"rides_t-1\"]"
   ]
  },
  {
   "cell_type": "code",
   "execution_count": 5,
   "id": "6bd315ce-2039-4ebf-9c1d-d56003bf3db2",
   "metadata": {},
   "outputs": [],
   "source": [
    "model = BaselineModelPreviousHour()\n",
    "predictions = model.predict(X_test)"
   ]
  },
  {
   "cell_type": "code",
   "execution_count": 6,
   "id": "23ab1392-4ba7-48a9-88d7-c882bf500222",
   "metadata": {},
   "outputs": [
    {
     "name": "stdout",
     "output_type": "stream",
     "text": [
      "139.0484\n"
     ]
    }
   ],
   "source": [
    "from sklearn.metrics import mean_absolute_error\n",
    "\n",
    "test_mae = mean_absolute_error(y_test, predictions)\n",
    "print(f\"{test_mae:.4f}\")"
   ]
  },
  {
   "cell_type": "code",
   "execution_count": 7,
   "id": "1cd98cb4-c618-4e4d-8cca-d457edea1698",
   "metadata": {},
   "outputs": [
    {
     "name": "stderr",
     "output_type": "stream",
     "text": [
      "INFO:httpx:HTTP Request: GET https://dagshub.com/api/v1/user \"HTTP/1.1 200 OK\"\n"
     ]
    },
    {
     "data": {
      "text/html": [
       "<pre style=\"white-space:pre;overflow-x:auto;line-height:normal;font-family:Menlo,'DejaVu Sans Mono',consolas,'Courier New',monospace\">Accessing as thanoojlingampally\n",
       "</pre>\n"
      ],
      "text/plain": [
       "Accessing as thanoojlingampally\n"
      ]
     },
     "metadata": {},
     "output_type": "display_data"
    },
    {
     "name": "stderr",
     "output_type": "stream",
     "text": [
      "INFO:dagshub:Accessing as thanoojlingampally\n",
      "INFO:httpx:HTTP Request: GET https://dagshub.com/api/v1/repos/thanoojlingampally/citi_bike \"HTTP/1.1 200 OK\"\n",
      "INFO:httpx:HTTP Request: GET https://dagshub.com/api/v1/user \"HTTP/1.1 200 OK\"\n"
     ]
    },
    {
     "data": {
      "text/html": [
       "<pre style=\"white-space:pre;overflow-x:auto;line-height:normal;font-family:Menlo,'DejaVu Sans Mono',consolas,'Courier New',monospace\">Initialized MLflow to track repo <span style=\"color: #008000; text-decoration-color: #008000\">\"thanoojlingampally/citi_bike\"</span>\n",
       "</pre>\n"
      ],
      "text/plain": [
       "Initialized MLflow to track repo \u001b[32m\"thanoojlingampally/citi_bike\"\u001b[0m\n"
      ]
     },
     "metadata": {},
     "output_type": "display_data"
    },
    {
     "name": "stderr",
     "output_type": "stream",
     "text": [
      "INFO:dagshub:Initialized MLflow to track repo \"thanoojlingampally/citi_bike\"\n"
     ]
    },
    {
     "data": {
      "text/html": [
       "<pre style=\"white-space:pre;overflow-x:auto;line-height:normal;font-family:Menlo,'DejaVu Sans Mono',consolas,'Courier New',monospace\">Repository thanoojlingampally/citi_bike initialized!\n",
       "</pre>\n"
      ],
      "text/plain": [
       "Repository thanoojlingampally/citi_bike initialized!\n"
      ]
     },
     "metadata": {},
     "output_type": "display_data"
    },
    {
     "name": "stderr",
     "output_type": "stream",
     "text": [
      "INFO:dagshub:Repository thanoojlingampally/citi_bike initialized!\n",
      "INFO:src.experiment_utils:MLflow tracking URI and credentials set.\n"
     ]
    }
   ],
   "source": [
    "from src.experiment_utils import set_mlflow_tracking, log_model_to_mlflow\n",
    "from dotenv import load_dotenv\n",
    "load_dotenv() \n",
    "import os\n",
    "#os.environ[\"MLFLOW_TRACKING_URI\"] = \"https://dagshub.com/api/v1/repo-buckets/s3/thanoojlingampally\"\n",
    "mlflow = set_mlflow_tracking()"
   ]
  },
  {
   "cell_type": "code",
   "execution_count": 8,
   "id": "c8576dca-2866-4934-9f84-1975c8386e6e",
   "metadata": {},
   "outputs": [
    {
     "name": "stdout",
     "output_type": "stream",
     "text": [
      "Note: you may need to restart the kernel to use updated packages.\n"
     ]
    }
   ],
   "source": [
    "%pip install -q dagshub mlflow"
   ]
  },
  {
   "cell_type": "code",
   "execution_count": 9,
   "id": "610da629-c7b8-43e0-aa41-85451ce07c6e",
   "metadata": {},
   "outputs": [
    {
     "name": "stderr",
     "output_type": "stream",
     "text": [
      "INFO:httpx:HTTP Request: GET https://dagshub.com/api/v1/repos/thanoojlingampally/citi_bike \"HTTP/1.1 200 OK\"\n"
     ]
    },
    {
     "data": {
      "text/html": [
       "<pre style=\"white-space:pre;overflow-x:auto;line-height:normal;font-family:Menlo,'DejaVu Sans Mono',consolas,'Courier New',monospace\">Initialized MLflow to track repo <span style=\"color: #008000; text-decoration-color: #008000\">\"thanoojlingampally/citi_bike\"</span>\n",
       "</pre>\n"
      ],
      "text/plain": [
       "Initialized MLflow to track repo \u001b[32m\"thanoojlingampally/citi_bike\"\u001b[0m\n"
      ]
     },
     "metadata": {},
     "output_type": "display_data"
    },
    {
     "name": "stderr",
     "output_type": "stream",
     "text": [
      "INFO:dagshub:Initialized MLflow to track repo \"thanoojlingampally/citi_bike\"\n"
     ]
    },
    {
     "data": {
      "text/html": [
       "<pre style=\"white-space:pre;overflow-x:auto;line-height:normal;font-family:Menlo,'DejaVu Sans Mono',consolas,'Courier New',monospace\">Repository thanoojlingampally/citi_bike initialized!\n",
       "</pre>\n"
      ],
      "text/plain": [
       "Repository thanoojlingampally/citi_bike initialized!\n"
      ]
     },
     "metadata": {},
     "output_type": "display_data"
    },
    {
     "name": "stderr",
     "output_type": "stream",
     "text": [
      "INFO:dagshub:Repository thanoojlingampally/citi_bike initialized!\n"
     ]
    },
    {
     "name": "stdout",
     "output_type": "stream",
     "text": [
      "✅ MLflow Tracking URI: https://dagshub.com/thanoojlingampally/citi_bike.mlflow\n"
     ]
    }
   ],
   "source": [
    "import dagshub\n",
    "import mlflow\n",
    "dagshub.init(repo_owner='thanoojlingampally', repo_name='citi_bike', mlflow=True)\n",
    "\n",
    "# Set the MLflow Tracking URI via Dagshub initialization\n",
    "print(\"✅ MLflow Tracking URI:\", mlflow.get_tracking_uri())"
   ]
  },
  {
   "cell_type": "code",
   "execution_count": 10,
   "id": "48af73a3-62fd-4096-bc52-685e9cd787cf",
   "metadata": {},
   "outputs": [
    {
     "name": "stderr",
     "output_type": "stream",
     "text": [
      "INFO:src.experiment_utils:Experiment set to: BaselineModelPreviousHour\n",
      "INFO:src.experiment_utils:Logged mean_absolute_error: 139.0483695652174\n",
      "c:\\Users\\thano\\anaconda3\\envs\\cda\\lib\\site-packages\\mlflow\\types\\utils.py:452: UserWarning: Hint: Inferred schema contains integer column(s). Integer columns in Python cannot represent missing values. If your input data contains missing values at inference time, it will be encoded as floats and will cause a schema enforcement error. The best way to avoid this problem is to infer the model schema based on a realistic data sample (training dataset) that includes missing values. Alternatively, you can declare integer columns as doubles (float64) whenever these columns may have missing values. See `Handling Integers With Missing Values <https://www.mlflow.org/docs/latest/models.html#handling-integers-with-missing-values>`_ for more details.\n",
      "  warnings.warn(\n",
      "INFO:src.experiment_utils:Model signature inferred.\n"
     ]
    },
    {
     "data": {
      "application/vnd.jupyter.widget-view+json": {
       "model_id": "04440326164d4b389c465f995fad917b",
       "version_major": 2,
       "version_minor": 0
      },
      "text/plain": [
       "Downloading artifacts:   0%|          | 0/7 [00:00<?, ?it/s]"
      ]
     },
     "metadata": {},
     "output_type": "display_data"
    },
    {
     "name": "stderr",
     "output_type": "stream",
     "text": [
      "Registered model 'BaselineModelPreviousHour' already exists. Creating a new version of this model...\n",
      "2025/05/11 03:30:43 INFO mlflow.store.model_registry.abstract_store: Waiting up to 300 seconds for model version to finish creation. Model name: BaselineModelPreviousHour, version 3\n",
      "Created version '3' of model 'BaselineModelPreviousHour'.\n",
      "INFO:src.experiment_utils:Model logged with name: BaselineModelPreviousHour\n"
     ]
    },
    {
     "name": "stdout",
     "output_type": "stream",
     "text": [
      "🏃 View run righteous-kite-838 at: https://dagshub.com/thanoojlingampally/citi_bike.mlflow/#/experiments/0/runs/f5cac4102be54a3d8b56e7e671534d1e\n",
      "🧪 View experiment at: https://dagshub.com/thanoojlingampally/citi_bike.mlflow/#/experiments/0\n"
     ]
    },
    {
     "data": {
      "text/plain": [
       "<mlflow.models.model.ModelInfo at 0x197e7131fd0>"
      ]
     },
     "execution_count": 10,
     "metadata": {},
     "output_type": "execute_result"
    }
   ],
   "source": [
    "log_model_to_mlflow(model, X_test, \"BaselineModelPreviousHour\", \"mean_absolute_error\", score=test_mae)"
   ]
  },
  {
   "cell_type": "code",
   "execution_count": 13,
   "id": "3a514fbb-4ea7-4261-802e-b6d9572ddd76",
   "metadata": {},
   "outputs": [],
   "source": [
    "import numpy as np\n",
    "\n",
    "class BaselineModelPreviousWeek:\n",
    "\n",
    "    def fit(self, X_train: pd.DataFrame, y_train: pd.Series):\n",
    "        pass\n",
    "\n",
    "    def predict(self, X_test: pd.DataFrame) -> np.array:\n",
    "        return X_test[f\"rides_t-{7*4}\"]"
   ]
  },
  {
   "cell_type": "code",
   "execution_count": 14,
   "id": "ce2a60d5-75ce-493f-b938-6f4112abf9eb",
   "metadata": {},
   "outputs": [],
   "source": [
    "model = BaselineModelPreviousWeek()\n",
    "predictions = model.predict(X_test)"
   ]
  },
  {
   "cell_type": "code",
   "execution_count": 15,
   "id": "5de6b0c8-a9f9-434c-be3e-d7cdf5a4c8ec",
   "metadata": {},
   "outputs": [
    {
     "name": "stdout",
     "output_type": "stream",
     "text": [
      "46.5973\n"
     ]
    }
   ],
   "source": [
    "test_mae = mean_absolute_error(y_test, predictions)\n",
    "print(f\"{test_mae:.4f}\")"
   ]
  },
  {
   "cell_type": "code",
   "execution_count": 16,
   "id": "db5cf5f3-3be7-4735-8b43-d752599aedc4",
   "metadata": {},
   "outputs": [
    {
     "name": "stderr",
     "output_type": "stream",
     "text": [
      "INFO:src.experiment_utils:Experiment set to: BaselineModelPreviousWeek\n",
      "INFO:src.experiment_utils:Logged mean_absolute_error: 46.59728260869565\n",
      "c:\\Users\\thano\\anaconda3\\envs\\cda\\lib\\site-packages\\mlflow\\types\\utils.py:452: UserWarning: Hint: Inferred schema contains integer column(s). Integer columns in Python cannot represent missing values. If your input data contains missing values at inference time, it will be encoded as floats and will cause a schema enforcement error. The best way to avoid this problem is to infer the model schema based on a realistic data sample (training dataset) that includes missing values. Alternatively, you can declare integer columns as doubles (float64) whenever these columns may have missing values. See `Handling Integers With Missing Values <https://www.mlflow.org/docs/latest/models.html#handling-integers-with-missing-values>`_ for more details.\n",
      "  warnings.warn(\n",
      "INFO:src.experiment_utils:Model signature inferred.\n"
     ]
    },
    {
     "data": {
      "application/vnd.jupyter.widget-view+json": {
       "model_id": "fa8323f1f1ef400491cd57a7fd3bb80c",
       "version_major": 2,
       "version_minor": 0
      },
      "text/plain": [
       "Downloading artifacts:   0%|          | 0/7 [00:00<?, ?it/s]"
      ]
     },
     "metadata": {},
     "output_type": "display_data"
    },
    {
     "name": "stderr",
     "output_type": "stream",
     "text": [
      "Registered model 'BaselineModelPreviousWeek' already exists. Creating a new version of this model...\n",
      "2025/05/11 03:34:25 INFO mlflow.store.model_registry.abstract_store: Waiting up to 300 seconds for model version to finish creation. Model name: BaselineModelPreviousWeek, version 2\n",
      "Created version '2' of model 'BaselineModelPreviousWeek'.\n",
      "INFO:src.experiment_utils:Model logged with name: BaselineModelPreviousWeek\n"
     ]
    },
    {
     "name": "stdout",
     "output_type": "stream",
     "text": [
      "🏃 View run kindly-fish-320 at: https://dagshub.com/thanoojlingampally/citi_bike.mlflow/#/experiments/1/runs/d05ebcd541894fc2ac936e56a310ba2f\n",
      "🧪 View experiment at: https://dagshub.com/thanoojlingampally/citi_bike.mlflow/#/experiments/1\n"
     ]
    },
    {
     "data": {
      "text/plain": [
       "<mlflow.models.model.ModelInfo at 0x197ebfcf730>"
      ]
     },
     "execution_count": 16,
     "metadata": {},
     "output_type": "execute_result"
    }
   ],
   "source": [
    "log_model_to_mlflow(model, X_test, \"BaselineModelPreviousWeek\", \"mean_absolute_error\", score=test_mae)"
   ]
  },
  {
   "cell_type": "code",
   "execution_count": 21,
   "id": "81cdad64-c6b2-44fc-8cf1-38803199e771",
   "metadata": {},
   "outputs": [],
   "source": [
    "import numpy as np\n",
    "import pandas as pd\n",
    "\n",
    "class BaselineModelLast4Weeks:\n",
    "    \"\"\"\n",
    "    A baseline model that predicts the average of the last 4 weeks (28 days)\n",
    "    for each test instance.\n",
    "    \"\"\"\n",
    "\n",
    "    def fit(self, X_train: pd.DataFrame, y_train: pd.Series):\n",
    "        \"\"\"\n",
    "        The fit method is not used in this baseline model as it does not learn\n",
    "        from the training data.\n",
    "        \"\"\"\n",
    "        pass\n",
    "\n",
    "    def predict(self, X_test: pd.DataFrame) -> np.array:\n",
    "        \"\"\"\n",
    "        Predicts the average of the last 4 weeks (28 days) for each test instance.\n",
    "\n",
    "        Parameters:\n",
    "            X_test (pd.DataFrame): The test DataFrame containing lagged features\n",
    "                                   (e.g., rides_t-{7*24}, rides_t-{14*24}, etc.).\n",
    "\n",
    "        Returns:\n",
    "            np.array: An array of predictions based on the average of the last 4 weeks.\n",
    "        \"\"\"\n",
    "        # Define the columns for the last 4 weeks\n",
    "        last_4_weeks_columns = [\n",
    "            f\"rides_t-{7*4}\",  # 1 week ago\n",
    "            f\"rides_t-{14*4}\", # 2 weeks ago\n",
    "            f\"rides_t-{21*4}\", # 3 weeks ago\n",
    "            f\"rides_t-{28*4}\"  # 4 weeks ago\n",
    "        ]\n",
    "\n",
    "        # Ensure the required columns exist in the test DataFrame\n",
    "        for col in last_4_weeks_columns:\n",
    "            if col not in X_test.columns:\n",
    "                raise ValueError(f\"Missing required column: {col}\")\n",
    "\n",
    "        # Calculate the average of the last 4 weeks\n",
    "        predictions = X_test[last_4_weeks_columns].mean(axis=1)\n",
    "\n",
    "        return predictions.to_numpy()"
   ]
  },
  {
   "cell_type": "code",
   "execution_count": 22,
   "id": "c578e858-3a10-4903-9647-394d975f4a50",
   "metadata": {},
   "outputs": [],
   "source": [
    "model = BaselineModelLast4Weeks()\n",
    "predictions = model.predict(X_test)"
   ]
  },
  {
   "cell_type": "code",
   "execution_count": 23,
   "id": "ef59ced3-dae5-4ef8-bcc8-234012e4377c",
   "metadata": {},
   "outputs": [
    {
     "data": {
      "text/html": [
       "<div>\n",
       "<style scoped>\n",
       "    .dataframe tbody tr th:only-of-type {\n",
       "        vertical-align: middle;\n",
       "    }\n",
       "\n",
       "    .dataframe tbody tr th {\n",
       "        vertical-align: top;\n",
       "    }\n",
       "\n",
       "    .dataframe thead th {\n",
       "        text-align: right;\n",
       "    }\n",
       "</style>\n",
       "<table border=\"1\" class=\"dataframe\">\n",
       "  <thead>\n",
       "    <tr style=\"text-align: right;\">\n",
       "      <th></th>\n",
       "      <th>rides_t-112</th>\n",
       "      <th>rides_t-111</th>\n",
       "      <th>rides_t-110</th>\n",
       "      <th>rides_t-109</th>\n",
       "      <th>rides_t-108</th>\n",
       "      <th>rides_t-107</th>\n",
       "      <th>rides_t-106</th>\n",
       "      <th>rides_t-105</th>\n",
       "      <th>rides_t-104</th>\n",
       "      <th>rides_t-103</th>\n",
       "      <th>...</th>\n",
       "      <th>rides_t-8</th>\n",
       "      <th>rides_t-7</th>\n",
       "      <th>rides_t-6</th>\n",
       "      <th>rides_t-5</th>\n",
       "      <th>rides_t-4</th>\n",
       "      <th>rides_t-3</th>\n",
       "      <th>rides_t-2</th>\n",
       "      <th>rides_t-1</th>\n",
       "      <th>pickup_hour</th>\n",
       "      <th>pickup_location_id</th>\n",
       "    </tr>\n",
       "  </thead>\n",
       "  <tbody>\n",
       "    <tr>\n",
       "      <th>0</th>\n",
       "      <td>39</td>\n",
       "      <td>331</td>\n",
       "      <td>298</td>\n",
       "      <td>302</td>\n",
       "      <td>51</td>\n",
       "      <td>328</td>\n",
       "      <td>298</td>\n",
       "      <td>334</td>\n",
       "      <td>43</td>\n",
       "      <td>340</td>\n",
       "      <td>...</td>\n",
       "      <td>101</td>\n",
       "      <td>82</td>\n",
       "      <td>209</td>\n",
       "      <td>217</td>\n",
       "      <td>45</td>\n",
       "      <td>286</td>\n",
       "      <td>335</td>\n",
       "      <td>240</td>\n",
       "      <td>2024-10-01 00:00:00</td>\n",
       "      <td>5626</td>\n",
       "    </tr>\n",
       "    <tr>\n",
       "      <th>1</th>\n",
       "      <td>331</td>\n",
       "      <td>298</td>\n",
       "      <td>302</td>\n",
       "      <td>51</td>\n",
       "      <td>328</td>\n",
       "      <td>298</td>\n",
       "      <td>334</td>\n",
       "      <td>43</td>\n",
       "      <td>340</td>\n",
       "      <td>290</td>\n",
       "      <td>...</td>\n",
       "      <td>82</td>\n",
       "      <td>209</td>\n",
       "      <td>217</td>\n",
       "      <td>45</td>\n",
       "      <td>286</td>\n",
       "      <td>335</td>\n",
       "      <td>240</td>\n",
       "      <td>33</td>\n",
       "      <td>2024-10-01 06:00:00</td>\n",
       "      <td>5626</td>\n",
       "    </tr>\n",
       "    <tr>\n",
       "      <th>2</th>\n",
       "      <td>298</td>\n",
       "      <td>302</td>\n",
       "      <td>51</td>\n",
       "      <td>328</td>\n",
       "      <td>298</td>\n",
       "      <td>334</td>\n",
       "      <td>43</td>\n",
       "      <td>340</td>\n",
       "      <td>290</td>\n",
       "      <td>319</td>\n",
       "      <td>...</td>\n",
       "      <td>209</td>\n",
       "      <td>217</td>\n",
       "      <td>45</td>\n",
       "      <td>286</td>\n",
       "      <td>335</td>\n",
       "      <td>240</td>\n",
       "      <td>33</td>\n",
       "      <td>330</td>\n",
       "      <td>2024-10-01 12:00:00</td>\n",
       "      <td>5626</td>\n",
       "    </tr>\n",
       "    <tr>\n",
       "      <th>3</th>\n",
       "      <td>302</td>\n",
       "      <td>51</td>\n",
       "      <td>328</td>\n",
       "      <td>298</td>\n",
       "      <td>334</td>\n",
       "      <td>43</td>\n",
       "      <td>340</td>\n",
       "      <td>290</td>\n",
       "      <td>319</td>\n",
       "      <td>61</td>\n",
       "      <td>...</td>\n",
       "      <td>217</td>\n",
       "      <td>45</td>\n",
       "      <td>286</td>\n",
       "      <td>335</td>\n",
       "      <td>240</td>\n",
       "      <td>33</td>\n",
       "      <td>330</td>\n",
       "      <td>310</td>\n",
       "      <td>2024-10-01 18:00:00</td>\n",
       "      <td>5626</td>\n",
       "    </tr>\n",
       "    <tr>\n",
       "      <th>4</th>\n",
       "      <td>51</td>\n",
       "      <td>328</td>\n",
       "      <td>298</td>\n",
       "      <td>334</td>\n",
       "      <td>43</td>\n",
       "      <td>340</td>\n",
       "      <td>290</td>\n",
       "      <td>319</td>\n",
       "      <td>61</td>\n",
       "      <td>286</td>\n",
       "      <td>...</td>\n",
       "      <td>45</td>\n",
       "      <td>286</td>\n",
       "      <td>335</td>\n",
       "      <td>240</td>\n",
       "      <td>33</td>\n",
       "      <td>330</td>\n",
       "      <td>310</td>\n",
       "      <td>310</td>\n",
       "      <td>2024-10-02 00:00:00</td>\n",
       "      <td>5626</td>\n",
       "    </tr>\n",
       "    <tr>\n",
       "      <th>...</th>\n",
       "      <td>...</td>\n",
       "      <td>...</td>\n",
       "      <td>...</td>\n",
       "      <td>...</td>\n",
       "      <td>...</td>\n",
       "      <td>...</td>\n",
       "      <td>...</td>\n",
       "      <td>...</td>\n",
       "      <td>...</td>\n",
       "      <td>...</td>\n",
       "      <td>...</td>\n",
       "      <td>...</td>\n",
       "      <td>...</td>\n",
       "      <td>...</td>\n",
       "      <td>...</td>\n",
       "      <td>...</td>\n",
       "      <td>...</td>\n",
       "      <td>...</td>\n",
       "      <td>...</td>\n",
       "      <td>...</td>\n",
       "      <td>...</td>\n",
       "    </tr>\n",
       "    <tr>\n",
       "      <th>363</th>\n",
       "      <td>131</td>\n",
       "      <td>23</td>\n",
       "      <td>207</td>\n",
       "      <td>218</td>\n",
       "      <td>179</td>\n",
       "      <td>24</td>\n",
       "      <td>232</td>\n",
       "      <td>203</td>\n",
       "      <td>150</td>\n",
       "      <td>12</td>\n",
       "      <td>...</td>\n",
       "      <td>60</td>\n",
       "      <td>36</td>\n",
       "      <td>78</td>\n",
       "      <td>159</td>\n",
       "      <td>107</td>\n",
       "      <td>19</td>\n",
       "      <td>111</td>\n",
       "      <td>215</td>\n",
       "      <td>2024-12-30 18:00:00</td>\n",
       "      <td>5626</td>\n",
       "    </tr>\n",
       "    <tr>\n",
       "      <th>364</th>\n",
       "      <td>23</td>\n",
       "      <td>207</td>\n",
       "      <td>218</td>\n",
       "      <td>179</td>\n",
       "      <td>24</td>\n",
       "      <td>232</td>\n",
       "      <td>203</td>\n",
       "      <td>150</td>\n",
       "      <td>12</td>\n",
       "      <td>240</td>\n",
       "      <td>...</td>\n",
       "      <td>36</td>\n",
       "      <td>78</td>\n",
       "      <td>159</td>\n",
       "      <td>107</td>\n",
       "      <td>19</td>\n",
       "      <td>111</td>\n",
       "      <td>215</td>\n",
       "      <td>144</td>\n",
       "      <td>2024-12-31 00:00:00</td>\n",
       "      <td>5626</td>\n",
       "    </tr>\n",
       "    <tr>\n",
       "      <th>365</th>\n",
       "      <td>207</td>\n",
       "      <td>218</td>\n",
       "      <td>179</td>\n",
       "      <td>24</td>\n",
       "      <td>232</td>\n",
       "      <td>203</td>\n",
       "      <td>150</td>\n",
       "      <td>12</td>\n",
       "      <td>240</td>\n",
       "      <td>205</td>\n",
       "      <td>...</td>\n",
       "      <td>78</td>\n",
       "      <td>159</td>\n",
       "      <td>107</td>\n",
       "      <td>19</td>\n",
       "      <td>111</td>\n",
       "      <td>215</td>\n",
       "      <td>144</td>\n",
       "      <td>40</td>\n",
       "      <td>2024-12-31 06:00:00</td>\n",
       "      <td>5626</td>\n",
       "    </tr>\n",
       "    <tr>\n",
       "      <th>366</th>\n",
       "      <td>218</td>\n",
       "      <td>179</td>\n",
       "      <td>24</td>\n",
       "      <td>232</td>\n",
       "      <td>203</td>\n",
       "      <td>150</td>\n",
       "      <td>12</td>\n",
       "      <td>240</td>\n",
       "      <td>205</td>\n",
       "      <td>187</td>\n",
       "      <td>...</td>\n",
       "      <td>159</td>\n",
       "      <td>107</td>\n",
       "      <td>19</td>\n",
       "      <td>111</td>\n",
       "      <td>215</td>\n",
       "      <td>144</td>\n",
       "      <td>40</td>\n",
       "      <td>95</td>\n",
       "      <td>2024-12-31 12:00:00</td>\n",
       "      <td>5626</td>\n",
       "    </tr>\n",
       "    <tr>\n",
       "      <th>367</th>\n",
       "      <td>179</td>\n",
       "      <td>24</td>\n",
       "      <td>232</td>\n",
       "      <td>203</td>\n",
       "      <td>150</td>\n",
       "      <td>12</td>\n",
       "      <td>240</td>\n",
       "      <td>205</td>\n",
       "      <td>187</td>\n",
       "      <td>43</td>\n",
       "      <td>...</td>\n",
       "      <td>107</td>\n",
       "      <td>19</td>\n",
       "      <td>111</td>\n",
       "      <td>215</td>\n",
       "      <td>144</td>\n",
       "      <td>40</td>\n",
       "      <td>95</td>\n",
       "      <td>226</td>\n",
       "      <td>2024-12-31 18:00:00</td>\n",
       "      <td>5626</td>\n",
       "    </tr>\n",
       "  </tbody>\n",
       "</table>\n",
       "<p>368 rows × 114 columns</p>\n",
       "</div>"
      ],
      "text/plain": [
       "     rides_t-112  rides_t-111  rides_t-110  rides_t-109  rides_t-108  \\\n",
       "0             39          331          298          302           51   \n",
       "1            331          298          302           51          328   \n",
       "2            298          302           51          328          298   \n",
       "3            302           51          328          298          334   \n",
       "4             51          328          298          334           43   \n",
       "..           ...          ...          ...          ...          ...   \n",
       "363          131           23          207          218          179   \n",
       "364           23          207          218          179           24   \n",
       "365          207          218          179           24          232   \n",
       "366          218          179           24          232          203   \n",
       "367          179           24          232          203          150   \n",
       "\n",
       "     rides_t-107  rides_t-106  rides_t-105  rides_t-104  rides_t-103  ...  \\\n",
       "0            328          298          334           43          340  ...   \n",
       "1            298          334           43          340          290  ...   \n",
       "2            334           43          340          290          319  ...   \n",
       "3             43          340          290          319           61  ...   \n",
       "4            340          290          319           61          286  ...   \n",
       "..           ...          ...          ...          ...          ...  ...   \n",
       "363           24          232          203          150           12  ...   \n",
       "364          232          203          150           12          240  ...   \n",
       "365          203          150           12          240          205  ...   \n",
       "366          150           12          240          205          187  ...   \n",
       "367           12          240          205          187           43  ...   \n",
       "\n",
       "     rides_t-8  rides_t-7  rides_t-6  rides_t-5  rides_t-4  rides_t-3  \\\n",
       "0          101         82        209        217         45        286   \n",
       "1           82        209        217         45        286        335   \n",
       "2          209        217         45        286        335        240   \n",
       "3          217         45        286        335        240         33   \n",
       "4           45        286        335        240         33        330   \n",
       "..         ...        ...        ...        ...        ...        ...   \n",
       "363         60         36         78        159        107         19   \n",
       "364         36         78        159        107         19        111   \n",
       "365         78        159        107         19        111        215   \n",
       "366        159        107         19        111        215        144   \n",
       "367        107         19        111        215        144         40   \n",
       "\n",
       "     rides_t-2  rides_t-1         pickup_hour  pickup_location_id  \n",
       "0          335        240 2024-10-01 00:00:00                5626  \n",
       "1          240         33 2024-10-01 06:00:00                5626  \n",
       "2           33        330 2024-10-01 12:00:00                5626  \n",
       "3          330        310 2024-10-01 18:00:00                5626  \n",
       "4          310        310 2024-10-02 00:00:00                5626  \n",
       "..         ...        ...                 ...                 ...  \n",
       "363        111        215 2024-12-30 18:00:00                5626  \n",
       "364        215        144 2024-12-31 00:00:00                5626  \n",
       "365        144         40 2024-12-31 06:00:00                5626  \n",
       "366         40         95 2024-12-31 12:00:00                5626  \n",
       "367         95        226 2024-12-31 18:00:00                5626  \n",
       "\n",
       "[368 rows x 114 columns]"
      ]
     },
     "execution_count": 23,
     "metadata": {},
     "output_type": "execute_result"
    }
   ],
   "source": [
    "X_test[X_test['pickup_location_id']==5626] "
   ]
  },
  {
   "cell_type": "code",
   "execution_count": 24,
   "id": "e106e233-1396-41e9-8906-1d45a1ab6972",
   "metadata": {},
   "outputs": [
    {
     "name": "stdout",
     "output_type": "stream",
     "text": [
      "45.3031\n"
     ]
    }
   ],
   "source": [
    "test_mae = mean_absolute_error(y_test, predictions)\n",
    "print(f\"{test_mae:.4f}\")"
   ]
  },
  {
   "cell_type": "code",
   "execution_count": 25,
   "id": "1da51143-c03b-4e23-ab83-2154b8f12f92",
   "metadata": {},
   "outputs": [
    {
     "name": "stderr",
     "output_type": "stream",
     "text": [
      "INFO:src.experiment_utils:Experiment set to: BaselineModelLast4Weeks\n",
      "INFO:src.experiment_utils:Logged mean_absolute_error: 45.303125\n",
      "c:\\Users\\thano\\anaconda3\\envs\\cda\\lib\\site-packages\\mlflow\\types\\utils.py:452: UserWarning: Hint: Inferred schema contains integer column(s). Integer columns in Python cannot represent missing values. If your input data contains missing values at inference time, it will be encoded as floats and will cause a schema enforcement error. The best way to avoid this problem is to infer the model schema based on a realistic data sample (training dataset) that includes missing values. Alternatively, you can declare integer columns as doubles (float64) whenever these columns may have missing values. See `Handling Integers With Missing Values <https://www.mlflow.org/docs/latest/models.html#handling-integers-with-missing-values>`_ for more details.\n",
      "  warnings.warn(\n",
      "INFO:src.experiment_utils:Model signature inferred.\n"
     ]
    },
    {
     "data": {
      "application/vnd.jupyter.widget-view+json": {
       "model_id": "a5d5dab1610a4415851d5a38dcce55e8",
       "version_major": 2,
       "version_minor": 0
      },
      "text/plain": [
       "Downloading artifacts:   0%|          | 0/7 [00:00<?, ?it/s]"
      ]
     },
     "metadata": {},
     "output_type": "display_data"
    },
    {
     "name": "stderr",
     "output_type": "stream",
     "text": [
      "Registered model 'BaselineModelLast4Weeks' already exists. Creating a new version of this model...\n",
      "2025/05/11 03:36:46 INFO mlflow.store.model_registry.abstract_store: Waiting up to 300 seconds for model version to finish creation. Model name: BaselineModelLast4Weeks, version 2\n",
      "Created version '2' of model 'BaselineModelLast4Weeks'.\n",
      "INFO:src.experiment_utils:Model logged with name: BaselineModelLast4Weeks\n"
     ]
    },
    {
     "name": "stdout",
     "output_type": "stream",
     "text": [
      "🏃 View run popular-kite-909 at: https://dagshub.com/thanoojlingampally/citi_bike.mlflow/#/experiments/2/runs/99a8929fc1f14879b800e010212d35b7\n",
      "🧪 View experiment at: https://dagshub.com/thanoojlingampally/citi_bike.mlflow/#/experiments/2\n"
     ]
    },
    {
     "data": {
      "text/plain": [
       "<mlflow.models.model.ModelInfo at 0x197ebfa7250>"
      ]
     },
     "execution_count": 25,
     "metadata": {},
     "output_type": "execute_result"
    }
   ],
   "source": [
    "log_model_to_mlflow(model, X_test, \"BaselineModelLast4Weeks\", \"mean_absolute_error\", score=test_mae)"
   ]
  },
  {
   "cell_type": "code",
   "execution_count": 27,
   "id": "d271232c-97c6-499b-b5c8-0a66149c5fef",
   "metadata": {},
   "outputs": [
    {
     "data": {
      "application/vnd.plotly.v1+json": {
       "config": {
        "plotlyServerURL": "https://plot.ly"
       },
       "data": [
        {
         "hovertemplate": "Time=%{x}<br>Ride Counts=%{y}<extra></extra>",
         "legendgroup": "",
         "line": {
          "color": "#636efa",
          "dash": "solid"
         },
         "marker": {
          "symbol": "circle"
         },
         "mode": "lines+markers",
         "name": "",
         "orientation": "v",
         "showlegend": false,
         "type": "scatter",
         "x": [
          "2024-10-23T00:00:00.000000000",
          "2024-10-23T06:00:00.000000000",
          "2024-10-23T12:00:00.000000000",
          "2024-10-23T18:00:00.000000000",
          "2024-10-24T00:00:00.000000000",
          "2024-10-24T06:00:00.000000000",
          "2024-10-24T12:00:00.000000000",
          "2024-10-24T18:00:00.000000000",
          "2024-10-25T00:00:00.000000000",
          "2024-10-25T06:00:00.000000000",
          "2024-10-25T12:00:00.000000000",
          "2024-10-25T18:00:00.000000000",
          "2024-10-26T00:00:00.000000000",
          "2024-10-26T06:00:00.000000000",
          "2024-10-26T12:00:00.000000000",
          "2024-10-26T18:00:00.000000000",
          "2024-10-27T00:00:00.000000000",
          "2024-10-27T06:00:00.000000000",
          "2024-10-27T12:00:00.000000000",
          "2024-10-27T18:00:00.000000000",
          "2024-10-28T00:00:00.000000000",
          "2024-10-28T06:00:00.000000000",
          "2024-10-28T12:00:00.000000000",
          "2024-10-28T18:00:00.000000000",
          "2024-10-29T00:00:00.000000000",
          "2024-10-29T06:00:00.000000000",
          "2024-10-29T12:00:00.000000000",
          "2024-10-29T18:00:00.000000000",
          "2024-10-30T00:00:00.000000000",
          "2024-10-30T06:00:00.000000000",
          "2024-10-30T12:00:00.000000000",
          "2024-10-30T18:00:00.000000000",
          "2024-10-31T00:00:00.000000000",
          "2024-10-31T06:00:00.000000000",
          "2024-10-31T12:00:00.000000000",
          "2024-10-31T18:00:00.000000000",
          "2024-11-01T00:00:00.000000000",
          "2024-11-01T06:00:00.000000000",
          "2024-11-01T12:00:00.000000000",
          "2024-11-01T18:00:00.000000000",
          "2024-11-02T00:00:00.000000000",
          "2024-11-02T06:00:00.000000000",
          "2024-11-02T12:00:00.000000000",
          "2024-11-02T18:00:00.000000000",
          "2024-11-03T00:00:00.000000000",
          "2024-11-03T06:00:00.000000000",
          "2024-11-03T12:00:00.000000000",
          "2024-11-03T18:00:00.000000000",
          "2024-11-04T00:00:00.000000000",
          "2024-11-04T06:00:00.000000000",
          "2024-11-04T12:00:00.000000000",
          "2024-11-04T18:00:00.000000000",
          "2024-11-05T00:00:00.000000000",
          "2024-11-05T06:00:00.000000000",
          "2024-11-05T12:00:00.000000000",
          "2024-11-05T18:00:00.000000000",
          "2024-11-06T00:00:00.000000000",
          "2024-11-06T06:00:00.000000000",
          "2024-11-06T12:00:00.000000000",
          "2024-11-06T18:00:00.000000000",
          "2024-11-07T00:00:00.000000000",
          "2024-11-07T06:00:00.000000000",
          "2024-11-07T12:00:00.000000000",
          "2024-11-07T18:00:00.000000000",
          "2024-11-08T00:00:00.000000000",
          "2024-11-08T06:00:00.000000000",
          "2024-11-08T12:00:00.000000000",
          "2024-11-08T18:00:00.000000000",
          "2024-11-09T00:00:00.000000000",
          "2024-11-09T06:00:00.000000000",
          "2024-11-09T12:00:00.000000000",
          "2024-11-09T18:00:00.000000000",
          "2024-11-10T00:00:00.000000000",
          "2024-11-10T06:00:00.000000000",
          "2024-11-10T12:00:00.000000000",
          "2024-11-10T18:00:00.000000000",
          "2024-11-11T00:00:00.000000000",
          "2024-11-11T06:00:00.000000000",
          "2024-11-11T12:00:00.000000000",
          "2024-11-11T18:00:00.000000000",
          "2024-11-12T00:00:00.000000000",
          "2024-11-12T06:00:00.000000000",
          "2024-11-12T12:00:00.000000000",
          "2024-11-12T18:00:00.000000000",
          "2024-11-13T00:00:00.000000000",
          "2024-11-13T06:00:00.000000000",
          "2024-11-13T12:00:00.000000000",
          "2024-11-13T18:00:00.000000000",
          "2024-11-14T00:00:00.000000000",
          "2024-11-14T06:00:00.000000000",
          "2024-11-14T12:00:00.000000000",
          "2024-11-14T18:00:00.000000000",
          "2024-11-15T00:00:00.000000000",
          "2024-11-15T06:00:00.000000000",
          "2024-11-15T12:00:00.000000000",
          "2024-11-15T18:00:00.000000000",
          "2024-11-16T00:00:00.000000000",
          "2024-11-16T06:00:00.000000000",
          "2024-11-16T12:00:00.000000000",
          "2024-11-16T18:00:00.000000000",
          "2024-11-17T00:00:00.000000000",
          "2024-11-17T06:00:00.000000000",
          "2024-11-17T12:00:00.000000000",
          "2024-11-17T18:00:00.000000000",
          "2024-11-18T00:00:00.000000000",
          "2024-11-18T06:00:00.000000000",
          "2024-11-18T12:00:00.000000000",
          "2024-11-18T18:00:00.000000000",
          "2024-11-19T00:00:00.000000000",
          "2024-11-19T06:00:00.000000000",
          "2024-11-19T12:00:00.000000000",
          "2024-11-19T18:00:00.000000000",
          "2024-11-20T00:00:00.000000000"
         ],
         "xaxis": "x",
         "y": {
          "bdata": "LgBRASMBPgEZACEBTAFiAS0ADgF0AXwBoAC6ANsBXwGeAIsAzwHRACQAGwEOAfAAIAD2AA8BJAEvAEEBPwE7AUoAPAFeAYYBjgDvAHQBkwG6ANUABQIyAXYAAwF+AdsAEAAsAQoBzQAdAEMBMwFHAS4AFwFAAS8BIgBJAT4BJQFEACUBagFJAXgAsAC9AQMBbQC2AGQBuAATAO0AIAHhABwANQHxANQAIwAWAfwApAAhADUB3QADAS0AFgFBAT0BeQC6AJwBJgGPAKoAkwHAABUAKwEZAckAHgBHASIB3QAjAA==",
          "dtype": "i2"
         },
         "yaxis": "y"
        },
        {
         "line": {
          "color": "green"
         },
         "marker": {
          "size": 10
         },
         "mode": "markers",
         "name": "Actual Value",
         "type": "scatter",
         "x": [
          "2024-11-20T00:00:00.000000000"
         ],
         "y": [
          35
         ]
        },
        {
         "line": {
          "color": "red"
         },
         "marker": {
          "size": 15,
          "symbol": "x"
         },
         "mode": "markers",
         "name": "Prediction",
         "type": "scatter",
         "x": [
          "2024-11-20T00:00:00.000000000"
         ],
         "y": [
          43.5
         ]
        }
       ],
       "layout": {
        "legend": {
         "tracegroupgap": 0
        },
        "template": {
         "data": {
          "bar": [
           {
            "error_x": {
             "color": "#2a3f5f"
            },
            "error_y": {
             "color": "#2a3f5f"
            },
            "marker": {
             "line": {
              "color": "white",
              "width": 0.5
             },
             "pattern": {
              "fillmode": "overlay",
              "size": 10,
              "solidity": 0.2
             }
            },
            "type": "bar"
           }
          ],
          "barpolar": [
           {
            "marker": {
             "line": {
              "color": "white",
              "width": 0.5
             },
             "pattern": {
              "fillmode": "overlay",
              "size": 10,
              "solidity": 0.2
             }
            },
            "type": "barpolar"
           }
          ],
          "carpet": [
           {
            "aaxis": {
             "endlinecolor": "#2a3f5f",
             "gridcolor": "#C8D4E3",
             "linecolor": "#C8D4E3",
             "minorgridcolor": "#C8D4E3",
             "startlinecolor": "#2a3f5f"
            },
            "baxis": {
             "endlinecolor": "#2a3f5f",
             "gridcolor": "#C8D4E3",
             "linecolor": "#C8D4E3",
             "minorgridcolor": "#C8D4E3",
             "startlinecolor": "#2a3f5f"
            },
            "type": "carpet"
           }
          ],
          "choropleth": [
           {
            "colorbar": {
             "outlinewidth": 0,
             "ticks": ""
            },
            "type": "choropleth"
           }
          ],
          "contour": [
           {
            "colorbar": {
             "outlinewidth": 0,
             "ticks": ""
            },
            "colorscale": [
             [
              0,
              "#0d0887"
             ],
             [
              0.1111111111111111,
              "#46039f"
             ],
             [
              0.2222222222222222,
              "#7201a8"
             ],
             [
              0.3333333333333333,
              "#9c179e"
             ],
             [
              0.4444444444444444,
              "#bd3786"
             ],
             [
              0.5555555555555556,
              "#d8576b"
             ],
             [
              0.6666666666666666,
              "#ed7953"
             ],
             [
              0.7777777777777778,
              "#fb9f3a"
             ],
             [
              0.8888888888888888,
              "#fdca26"
             ],
             [
              1,
              "#f0f921"
             ]
            ],
            "type": "contour"
           }
          ],
          "contourcarpet": [
           {
            "colorbar": {
             "outlinewidth": 0,
             "ticks": ""
            },
            "type": "contourcarpet"
           }
          ],
          "heatmap": [
           {
            "colorbar": {
             "outlinewidth": 0,
             "ticks": ""
            },
            "colorscale": [
             [
              0,
              "#0d0887"
             ],
             [
              0.1111111111111111,
              "#46039f"
             ],
             [
              0.2222222222222222,
              "#7201a8"
             ],
             [
              0.3333333333333333,
              "#9c179e"
             ],
             [
              0.4444444444444444,
              "#bd3786"
             ],
             [
              0.5555555555555556,
              "#d8576b"
             ],
             [
              0.6666666666666666,
              "#ed7953"
             ],
             [
              0.7777777777777778,
              "#fb9f3a"
             ],
             [
              0.8888888888888888,
              "#fdca26"
             ],
             [
              1,
              "#f0f921"
             ]
            ],
            "type": "heatmap"
           }
          ],
          "histogram": [
           {
            "marker": {
             "pattern": {
              "fillmode": "overlay",
              "size": 10,
              "solidity": 0.2
             }
            },
            "type": "histogram"
           }
          ],
          "histogram2d": [
           {
            "colorbar": {
             "outlinewidth": 0,
             "ticks": ""
            },
            "colorscale": [
             [
              0,
              "#0d0887"
             ],
             [
              0.1111111111111111,
              "#46039f"
             ],
             [
              0.2222222222222222,
              "#7201a8"
             ],
             [
              0.3333333333333333,
              "#9c179e"
             ],
             [
              0.4444444444444444,
              "#bd3786"
             ],
             [
              0.5555555555555556,
              "#d8576b"
             ],
             [
              0.6666666666666666,
              "#ed7953"
             ],
             [
              0.7777777777777778,
              "#fb9f3a"
             ],
             [
              0.8888888888888888,
              "#fdca26"
             ],
             [
              1,
              "#f0f921"
             ]
            ],
            "type": "histogram2d"
           }
          ],
          "histogram2dcontour": [
           {
            "colorbar": {
             "outlinewidth": 0,
             "ticks": ""
            },
            "colorscale": [
             [
              0,
              "#0d0887"
             ],
             [
              0.1111111111111111,
              "#46039f"
             ],
             [
              0.2222222222222222,
              "#7201a8"
             ],
             [
              0.3333333333333333,
              "#9c179e"
             ],
             [
              0.4444444444444444,
              "#bd3786"
             ],
             [
              0.5555555555555556,
              "#d8576b"
             ],
             [
              0.6666666666666666,
              "#ed7953"
             ],
             [
              0.7777777777777778,
              "#fb9f3a"
             ],
             [
              0.8888888888888888,
              "#fdca26"
             ],
             [
              1,
              "#f0f921"
             ]
            ],
            "type": "histogram2dcontour"
           }
          ],
          "mesh3d": [
           {
            "colorbar": {
             "outlinewidth": 0,
             "ticks": ""
            },
            "type": "mesh3d"
           }
          ],
          "parcoords": [
           {
            "line": {
             "colorbar": {
              "outlinewidth": 0,
              "ticks": ""
             }
            },
            "type": "parcoords"
           }
          ],
          "pie": [
           {
            "automargin": true,
            "type": "pie"
           }
          ],
          "scatter": [
           {
            "fillpattern": {
             "fillmode": "overlay",
             "size": 10,
             "solidity": 0.2
            },
            "type": "scatter"
           }
          ],
          "scatter3d": [
           {
            "line": {
             "colorbar": {
              "outlinewidth": 0,
              "ticks": ""
             }
            },
            "marker": {
             "colorbar": {
              "outlinewidth": 0,
              "ticks": ""
             }
            },
            "type": "scatter3d"
           }
          ],
          "scattercarpet": [
           {
            "marker": {
             "colorbar": {
              "outlinewidth": 0,
              "ticks": ""
             }
            },
            "type": "scattercarpet"
           }
          ],
          "scattergeo": [
           {
            "marker": {
             "colorbar": {
              "outlinewidth": 0,
              "ticks": ""
             }
            },
            "type": "scattergeo"
           }
          ],
          "scattergl": [
           {
            "marker": {
             "colorbar": {
              "outlinewidth": 0,
              "ticks": ""
             }
            },
            "type": "scattergl"
           }
          ],
          "scattermap": [
           {
            "marker": {
             "colorbar": {
              "outlinewidth": 0,
              "ticks": ""
             }
            },
            "type": "scattermap"
           }
          ],
          "scattermapbox": [
           {
            "marker": {
             "colorbar": {
              "outlinewidth": 0,
              "ticks": ""
             }
            },
            "type": "scattermapbox"
           }
          ],
          "scatterpolar": [
           {
            "marker": {
             "colorbar": {
              "outlinewidth": 0,
              "ticks": ""
             }
            },
            "type": "scatterpolar"
           }
          ],
          "scatterpolargl": [
           {
            "marker": {
             "colorbar": {
              "outlinewidth": 0,
              "ticks": ""
             }
            },
            "type": "scatterpolargl"
           }
          ],
          "scatterternary": [
           {
            "marker": {
             "colorbar": {
              "outlinewidth": 0,
              "ticks": ""
             }
            },
            "type": "scatterternary"
           }
          ],
          "surface": [
           {
            "colorbar": {
             "outlinewidth": 0,
             "ticks": ""
            },
            "colorscale": [
             [
              0,
              "#0d0887"
             ],
             [
              0.1111111111111111,
              "#46039f"
             ],
             [
              0.2222222222222222,
              "#7201a8"
             ],
             [
              0.3333333333333333,
              "#9c179e"
             ],
             [
              0.4444444444444444,
              "#bd3786"
             ],
             [
              0.5555555555555556,
              "#d8576b"
             ],
             [
              0.6666666666666666,
              "#ed7953"
             ],
             [
              0.7777777777777778,
              "#fb9f3a"
             ],
             [
              0.8888888888888888,
              "#fdca26"
             ],
             [
              1,
              "#f0f921"
             ]
            ],
            "type": "surface"
           }
          ],
          "table": [
           {
            "cells": {
             "fill": {
              "color": "#EBF0F8"
             },
             "line": {
              "color": "white"
             }
            },
            "header": {
             "fill": {
              "color": "#C8D4E3"
             },
             "line": {
              "color": "white"
             }
            },
            "type": "table"
           }
          ]
         },
         "layout": {
          "annotationdefaults": {
           "arrowcolor": "#2a3f5f",
           "arrowhead": 0,
           "arrowwidth": 1
          },
          "autotypenumbers": "strict",
          "coloraxis": {
           "colorbar": {
            "outlinewidth": 0,
            "ticks": ""
           }
          },
          "colorscale": {
           "diverging": [
            [
             0,
             "#8e0152"
            ],
            [
             0.1,
             "#c51b7d"
            ],
            [
             0.2,
             "#de77ae"
            ],
            [
             0.3,
             "#f1b6da"
            ],
            [
             0.4,
             "#fde0ef"
            ],
            [
             0.5,
             "#f7f7f7"
            ],
            [
             0.6,
             "#e6f5d0"
            ],
            [
             0.7,
             "#b8e186"
            ],
            [
             0.8,
             "#7fbc41"
            ],
            [
             0.9,
             "#4d9221"
            ],
            [
             1,
             "#276419"
            ]
           ],
           "sequential": [
            [
             0,
             "#0d0887"
            ],
            [
             0.1111111111111111,
             "#46039f"
            ],
            [
             0.2222222222222222,
             "#7201a8"
            ],
            [
             0.3333333333333333,
             "#9c179e"
            ],
            [
             0.4444444444444444,
             "#bd3786"
            ],
            [
             0.5555555555555556,
             "#d8576b"
            ],
            [
             0.6666666666666666,
             "#ed7953"
            ],
            [
             0.7777777777777778,
             "#fb9f3a"
            ],
            [
             0.8888888888888888,
             "#fdca26"
            ],
            [
             1,
             "#f0f921"
            ]
           ],
           "sequentialminus": [
            [
             0,
             "#0d0887"
            ],
            [
             0.1111111111111111,
             "#46039f"
            ],
            [
             0.2222222222222222,
             "#7201a8"
            ],
            [
             0.3333333333333333,
             "#9c179e"
            ],
            [
             0.4444444444444444,
             "#bd3786"
            ],
            [
             0.5555555555555556,
             "#d8576b"
            ],
            [
             0.6666666666666666,
             "#ed7953"
            ],
            [
             0.7777777777777778,
             "#fb9f3a"
            ],
            [
             0.8888888888888888,
             "#fdca26"
            ],
            [
             1,
             "#f0f921"
            ]
           ]
          },
          "colorway": [
           "#636efa",
           "#EF553B",
           "#00cc96",
           "#ab63fa",
           "#FFA15A",
           "#19d3f3",
           "#FF6692",
           "#B6E880",
           "#FF97FF",
           "#FECB52"
          ],
          "font": {
           "color": "#2a3f5f"
          },
          "geo": {
           "bgcolor": "white",
           "lakecolor": "white",
           "landcolor": "white",
           "showlakes": true,
           "showland": true,
           "subunitcolor": "#C8D4E3"
          },
          "hoverlabel": {
           "align": "left"
          },
          "hovermode": "closest",
          "mapbox": {
           "style": "light"
          },
          "paper_bgcolor": "white",
          "plot_bgcolor": "white",
          "polar": {
           "angularaxis": {
            "gridcolor": "#EBF0F8",
            "linecolor": "#EBF0F8",
            "ticks": ""
           },
           "bgcolor": "white",
           "radialaxis": {
            "gridcolor": "#EBF0F8",
            "linecolor": "#EBF0F8",
            "ticks": ""
           }
          },
          "scene": {
           "xaxis": {
            "backgroundcolor": "white",
            "gridcolor": "#DFE8F3",
            "gridwidth": 2,
            "linecolor": "#EBF0F8",
            "showbackground": true,
            "ticks": "",
            "zerolinecolor": "#EBF0F8"
           },
           "yaxis": {
            "backgroundcolor": "white",
            "gridcolor": "#DFE8F3",
            "gridwidth": 2,
            "linecolor": "#EBF0F8",
            "showbackground": true,
            "ticks": "",
            "zerolinecolor": "#EBF0F8"
           },
           "zaxis": {
            "backgroundcolor": "white",
            "gridcolor": "#DFE8F3",
            "gridwidth": 2,
            "linecolor": "#EBF0F8",
            "showbackground": true,
            "ticks": "",
            "zerolinecolor": "#EBF0F8"
           }
          },
          "shapedefaults": {
           "line": {
            "color": "#2a3f5f"
           }
          },
          "ternary": {
           "aaxis": {
            "gridcolor": "#DFE8F3",
            "linecolor": "#A2B1C6",
            "ticks": ""
           },
           "baxis": {
            "gridcolor": "#DFE8F3",
            "linecolor": "#A2B1C6",
            "ticks": ""
           },
           "bgcolor": "white",
           "caxis": {
            "gridcolor": "#DFE8F3",
            "linecolor": "#A2B1C6",
            "ticks": ""
           }
          },
          "title": {
           "x": 0.05
          },
          "xaxis": {
           "automargin": true,
           "gridcolor": "#EBF0F8",
           "linecolor": "#EBF0F8",
           "ticks": "",
           "title": {
            "standoff": 15
           },
           "zerolinecolor": "#EBF0F8",
           "zerolinewidth": 2
          },
          "yaxis": {
           "automargin": true,
           "gridcolor": "#EBF0F8",
           "linecolor": "#EBF0F8",
           "ticks": "",
           "title": {
            "standoff": 15
           },
           "zerolinecolor": "#EBF0F8",
           "zerolinewidth": 2
          }
         }
        },
        "title": {
         "text": "Pickup Hour: 2024-11-20 00:00:00, Location ID: 5626"
        },
        "xaxis": {
         "anchor": "y",
         "domain": [
          0,
          1
         ],
         "title": {
          "text": "Time"
         }
        },
        "yaxis": {
         "anchor": "x",
         "domain": [
          0,
          1
         ],
         "title": {
          "text": "Ride Counts"
         }
        }
       }
      }
     },
     "metadata": {},
     "output_type": "display_data"
    }
   ],
   "source": [
    "from src.plot_utils import plot_aggregated_time_series_6h\n",
    "\n",
    "plot_aggregated_time_series_6h(X_test, y_test, 200, predictions)"
   ]
  },
  {
   "cell_type": "code",
   "execution_count": null,
   "id": "462e016a-a21d-4ca1-8470-df5d02992934",
   "metadata": {},
   "outputs": [],
   "source": []
  }
 ],
 "metadata": {
  "kernelspec": {
   "display_name": "cda",
   "language": "python",
   "name": "cda"
  },
  "language_info": {
   "codemirror_mode": {
    "name": "ipython",
    "version": 3
   },
   "file_extension": ".py",
   "mimetype": "text/x-python",
   "name": "python",
   "nbconvert_exporter": "python",
   "pygments_lexer": "ipython3",
   "version": "3.9.21"
  }
 },
 "nbformat": 4,
 "nbformat_minor": 5
}
